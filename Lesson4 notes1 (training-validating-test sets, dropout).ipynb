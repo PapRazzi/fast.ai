{
 "cells": [
  {
   "cell_type": "markdown",
   "metadata": {},
   "source": [
    "# Training/Validation/Test\n",
    "When creating our model, note that we have 3 sets:\n",
    "\n",
    "* The training set\n",
    "* The validation set\n",
    "* The test set\n",
    "\n",
    "The training set is used with stochastic gradient descent to train the various weights within the network.\n",
    "\n",
    "The test set is used to check how good our model is -- can it correctly identify data it hasn't seen before?\n",
    "\n",
    "But what about the validation set?\n",
    "\n",
    "We must go back to the concept of _underfitting_ and _overfitting_.\n",
    "\n",
    "Thinking of it like linear regression, if a model is _underfitting_, it would be like there was a straight line going through the data points, but the line is a bit to general to accurately predict future data points.\n",
    "\n",
    "If a model is _overfitting_, it is like the line hits all of the data points exactly. This might seem fine, but the line would be so random that it wouldn't be able to predict any new, unseen data.\n",
    "\n",
    "(Reminder: You can check if your model is overfitting because the training loss will be a lot lower than the validation loss.)\n",
    "\n",
    "What you want is a line that is _just right_. That is, it goes through the data points pretty closely, but there is still a pattern to the line, so you can use it to predict future data.\n",
    "\n"
   ]
  },
  {
   "cell_type": "code",
   "execution_count": null,
   "metadata": {
    "collapsed": true
   },
   "outputs": [],
   "source": []
  }
 ],
 "metadata": {
  "kernelspec": {
   "display_name": "Python 3",
   "language": "python",
   "name": "python3"
  },
  "language_info": {
   "codemirror_mode": {
    "name": "ipython",
    "version": 3
   },
   "file_extension": ".py",
   "mimetype": "text/x-python",
   "name": "python",
   "nbconvert_exporter": "python",
   "pygments_lexer": "ipython3",
   "version": "3.6.3"
  }
 },
 "nbformat": 4,
 "nbformat_minor": 2
}
