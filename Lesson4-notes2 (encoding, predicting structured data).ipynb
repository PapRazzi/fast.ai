{
 "cells": [
  {
   "cell_type": "markdown",
   "metadata": {},
   "source": [
    "# Encoding/Predicting structured data\n",
    "\n",
    "## Categorical and continuous data\n",
    "When working with structured data, we can think of it as having two types of data:\n",
    "\n",
    "1. Categorical data (data broken down into categories)\n",
    "2. Continuous data (numbers, etc. -- things that can continue indefinitely)\n",
    "\n",
    "Realize that any continuous data could also be used as categorical data (though obviously there are cases where this might be impractical -- if you would end up with thousands of categories, for example). Though not all categorical data could be used as continuous data (if we had two types of store in our data, that couldn't be continuous. We just have A and B).\n",
    "\n",
    "One interesting case is dates. When it comes to dates, it's often better to handle them as categorical data rather than continuous data.\n",
    "\n",
    "## Data types and neural nets\n",
    "With continuous data, neural nets will try to come up with a smooth function to predict each data point.\n",
    "\n",
    "With categorical data, neural nets can treat each category completely differently.\n",
    "\n",
    "This is why it makes more sense to handle dates as categorical data.\n",
    "\n",
    "There isn't necessarily a connection BETWEEN Sunday and Monday, say. Rather Sunday and Monday are completely different categories that may be interesting AS categories, rather than as connected data.\n",
    "\n",
    "## Cardinality\n",
    "When we talk about the __cardinality__ of connected data, we are talking about the number of categories. Our cardinality will normally be `number_of_categories + 1`, where 1 is for the unknown category.\n",
    "\n",
    "For example, days of the week would have a cardinality of 8.\n",
    "\n",
    "## Dependent variables\n",
    "The dependent variable is the variables we are trying to predict. For example, sales numbers. In the fast.ai library, the dependent variable is removed from the data frame we are processing.\n",
    "\n",
    "## Validation sets for time series data\n",
    "Since we are trying to predict the future, when using time series data, we typically use a validation set that will be taken from the end of the time series. For example, if we are trying to predict the next 2 weeks of sales, we would typically take the last 2 weeks of sales from our training set as the validation set.\n",
    "\n",
    "## Embeddings\n",
    "Think of categorical data. We could one-hot encode it, like this:"
   ]
  },
  {
   "cell_type": "code",
   "execution_count": 3,
   "metadata": {},
   "outputs": [],
   "source": [
    "import pandas as pd\n",
    "import numpy as np"
   ]
  },
  {
   "cell_type": "code",
   "execution_count": 10,
   "metadata": {},
   "outputs": [],
   "source": [
    "one_hot_matrix = np.array(\n",
    "[[1, 0, 0, 0, 0, 0, 0],\n",
    "[0, 1, 0, 0, 0, 0, 0],\n",
    "[0, 0, 1, 0, 0, 0, 0],\n",
    "[0, 0, 0, 1, 0, 0, 0],\n",
    "[0, 0, 0, 0, 1, 0, 0],\n",
    "[0, 0, 0, 0, 0, 1, 0],\n",
    "[0, 0, 0, 0, 0, 0, 1]])\n",
    "\n",
    "df = pd.DataFrame(one_hot_matrix, index=['Monday', 'Tuesday', 'Wednesday', 'Thursday', 'Friday', 'Saturday', 'Sunday'])"
   ]
  },
  {
   "cell_type": "code",
   "execution_count": 11,
   "metadata": {},
   "outputs": [
    {
     "data": {
      "text/html": [
       "<div>\n",
       "<style scoped>\n",
       "    .dataframe tbody tr th:only-of-type {\n",
       "        vertical-align: middle;\n",
       "    }\n",
       "\n",
       "    .dataframe tbody tr th {\n",
       "        vertical-align: top;\n",
       "    }\n",
       "\n",
       "    .dataframe thead th {\n",
       "        text-align: right;\n",
       "    }\n",
       "</style>\n",
       "<table border=\"1\" class=\"dataframe\">\n",
       "  <thead>\n",
       "    <tr style=\"text-align: right;\">\n",
       "      <th></th>\n",
       "      <th>0</th>\n",
       "      <th>1</th>\n",
       "      <th>2</th>\n",
       "      <th>3</th>\n",
       "      <th>4</th>\n",
       "      <th>5</th>\n",
       "      <th>6</th>\n",
       "    </tr>\n",
       "  </thead>\n",
       "  <tbody>\n",
       "    <tr>\n",
       "      <th>Monday</th>\n",
       "      <td>1</td>\n",
       "      <td>0</td>\n",
       "      <td>0</td>\n",
       "      <td>0</td>\n",
       "      <td>0</td>\n",
       "      <td>0</td>\n",
       "      <td>0</td>\n",
       "    </tr>\n",
       "    <tr>\n",
       "      <th>Tuesday</th>\n",
       "      <td>0</td>\n",
       "      <td>1</td>\n",
       "      <td>0</td>\n",
       "      <td>0</td>\n",
       "      <td>0</td>\n",
       "      <td>0</td>\n",
       "      <td>0</td>\n",
       "    </tr>\n",
       "    <tr>\n",
       "      <th>Wednesday</th>\n",
       "      <td>0</td>\n",
       "      <td>0</td>\n",
       "      <td>1</td>\n",
       "      <td>0</td>\n",
       "      <td>0</td>\n",
       "      <td>0</td>\n",
       "      <td>0</td>\n",
       "    </tr>\n",
       "    <tr>\n",
       "      <th>Thursday</th>\n",
       "      <td>0</td>\n",
       "      <td>0</td>\n",
       "      <td>0</td>\n",
       "      <td>1</td>\n",
       "      <td>0</td>\n",
       "      <td>0</td>\n",
       "      <td>0</td>\n",
       "    </tr>\n",
       "    <tr>\n",
       "      <th>Friday</th>\n",
       "      <td>0</td>\n",
       "      <td>0</td>\n",
       "      <td>0</td>\n",
       "      <td>0</td>\n",
       "      <td>1</td>\n",
       "      <td>0</td>\n",
       "      <td>0</td>\n",
       "    </tr>\n",
       "    <tr>\n",
       "      <th>Saturday</th>\n",
       "      <td>0</td>\n",
       "      <td>0</td>\n",
       "      <td>0</td>\n",
       "      <td>0</td>\n",
       "      <td>0</td>\n",
       "      <td>1</td>\n",
       "      <td>0</td>\n",
       "    </tr>\n",
       "    <tr>\n",
       "      <th>Sunday</th>\n",
       "      <td>0</td>\n",
       "      <td>0</td>\n",
       "      <td>0</td>\n",
       "      <td>0</td>\n",
       "      <td>0</td>\n",
       "      <td>0</td>\n",
       "      <td>1</td>\n",
       "    </tr>\n",
       "  </tbody>\n",
       "</table>\n",
       "</div>"
      ],
      "text/plain": [
       "           0  1  2  3  4  5  6\n",
       "Monday     1  0  0  0  0  0  0\n",
       "Tuesday    0  1  0  0  0  0  0\n",
       "Wednesday  0  0  1  0  0  0  0\n",
       "Thursday   0  0  0  1  0  0  0\n",
       "Friday     0  0  0  0  1  0  0\n",
       "Saturday   0  0  0  0  0  1  0\n",
       "Sunday     0  0  0  0  0  0  1"
      ]
     },
     "execution_count": 11,
     "metadata": {},
     "output_type": "execute_result"
    }
   ],
   "source": [
    "df"
   ]
  },
  {
   "cell_type": "markdown",
   "metadata": {},
   "source": [
    "The problem with this approach is that every day of the week is equal to each other. A better approach is to use __encodings__. Encoding essentially means using a matrix of __n__ columns and __num_of_categories__ rows. Then, when you pick a category, you pick a row of numbers from this __embedding matrix__. These numbers start out random, but can be tweaked and learned by the neural network.\n",
    "\n",
    "This way, by tweaking the numbers, we can get a rich representation of the days. For example, we might find that Saturday and Sunday have the same kind of relationship."
   ]
  },
  {
   "cell_type": "code",
   "execution_count": 12,
   "metadata": {},
   "outputs": [],
   "source": [
    "encoding_df = pd.DataFrame(np.random.randn(7, 4), index=['Monday', 'Tuesday', 'Wednesday', 'Thursday', 'Friday', 'Saturday', 'Sunday'])"
   ]
  },
  {
   "cell_type": "code",
   "execution_count": 13,
   "metadata": {},
   "outputs": [
    {
     "data": {
      "text/html": [
       "<div>\n",
       "<style scoped>\n",
       "    .dataframe tbody tr th:only-of-type {\n",
       "        vertical-align: middle;\n",
       "    }\n",
       "\n",
       "    .dataframe tbody tr th {\n",
       "        vertical-align: top;\n",
       "    }\n",
       "\n",
       "    .dataframe thead th {\n",
       "        text-align: right;\n",
       "    }\n",
       "</style>\n",
       "<table border=\"1\" class=\"dataframe\">\n",
       "  <thead>\n",
       "    <tr style=\"text-align: right;\">\n",
       "      <th></th>\n",
       "      <th>0</th>\n",
       "      <th>1</th>\n",
       "      <th>2</th>\n",
       "      <th>3</th>\n",
       "    </tr>\n",
       "  </thead>\n",
       "  <tbody>\n",
       "    <tr>\n",
       "      <th>Monday</th>\n",
       "      <td>-0.225873</td>\n",
       "      <td>0.580005</td>\n",
       "      <td>-0.457248</td>\n",
       "      <td>-0.795360</td>\n",
       "    </tr>\n",
       "    <tr>\n",
       "      <th>Tuesday</th>\n",
       "      <td>1.070281</td>\n",
       "      <td>-1.200492</td>\n",
       "      <td>-0.525535</td>\n",
       "      <td>-1.182165</td>\n",
       "    </tr>\n",
       "    <tr>\n",
       "      <th>Wednesday</th>\n",
       "      <td>0.659523</td>\n",
       "      <td>-0.703516</td>\n",
       "      <td>-0.142187</td>\n",
       "      <td>1.995919</td>\n",
       "    </tr>\n",
       "    <tr>\n",
       "      <th>Thursday</th>\n",
       "      <td>0.289510</td>\n",
       "      <td>0.812477</td>\n",
       "      <td>-0.948973</td>\n",
       "      <td>0.707514</td>\n",
       "    </tr>\n",
       "    <tr>\n",
       "      <th>Friday</th>\n",
       "      <td>-1.408670</td>\n",
       "      <td>-0.264204</td>\n",
       "      <td>-0.076589</td>\n",
       "      <td>-0.666953</td>\n",
       "    </tr>\n",
       "    <tr>\n",
       "      <th>Saturday</th>\n",
       "      <td>0.036788</td>\n",
       "      <td>-0.048588</td>\n",
       "      <td>0.916669</td>\n",
       "      <td>0.512508</td>\n",
       "    </tr>\n",
       "    <tr>\n",
       "      <th>Sunday</th>\n",
       "      <td>-0.597314</td>\n",
       "      <td>-0.590090</td>\n",
       "      <td>-2.000963</td>\n",
       "      <td>0.667598</td>\n",
       "    </tr>\n",
       "  </tbody>\n",
       "</table>\n",
       "</div>"
      ],
      "text/plain": [
       "                  0         1         2         3\n",
       "Monday    -0.225873  0.580005 -0.457248 -0.795360\n",
       "Tuesday    1.070281 -1.200492 -0.525535 -1.182165\n",
       "Wednesday  0.659523 -0.703516 -0.142187  1.995919\n",
       "Thursday   0.289510  0.812477 -0.948973  0.707514\n",
       "Friday    -1.408670 -0.264204 -0.076589 -0.666953\n",
       "Saturday   0.036788 -0.048588  0.916669  0.512508\n",
       "Sunday    -0.597314 -0.590090 -2.000963  0.667598"
      ]
     },
     "execution_count": 13,
     "metadata": {},
     "output_type": "execute_result"
    }
   ],
   "source": [
    "encoding_df"
   ]
  },
  {
   "cell_type": "markdown",
   "metadata": {},
   "source": [
    "__Question:__ how do we know how many columns to add to the encoding matrix?\n",
    "\n",
    "__Answer:__ Jeremy suggests `max(50, num_of_categories/2)`."
   ]
  },
  {
   "cell_type": "markdown",
   "metadata": {},
   "source": [
    "## Basic steps for creating a deep learning model for structured data\n",
    "\n",
    "0. (Feature engineering/data wrangling)\n",
    "1. Decide what you want your categorical and continuous data to be, put it in a data frame\n",
    "2. Create validation set\n",
    "3. Set data using `ColumnarModelData.from_data_frame`\n",
    "4. Determine how big embedding matrices should be (see heuristic above)\n",
    "5. Call `get_learner` for sample set\n",
    "6. Call `fit` for sample set, tweak params as required\n",
    "7. Repeat steps 5-6 for all of training data\n",
    "8. Repeat steps 5-6 for test data\n",
    "9. Create submission and submit (Kaggle)"
   ]
  },
  {
   "cell_type": "markdown",
   "metadata": {},
   "source": [
    "## Root Mean Squared Error\n",
    "The contest uses root mean squared error percentage as the evaluation metric.\n",
    "\n",
    "This is basically just another way to measure how accurate a model is.\n",
    "\n",
    "Imagine you have a line going through a series of data points, RMSE will tell you how well your line fits the data.\n",
    "\n",
    "We take the square of each residual (how far a data point is away from your regression line), add up all of those squares, divide by the number of samples-1, and take the square root.\n",
    "\n",
    "The lower the number, the better. For a correlation coefficient of 1, the RMSE would be 0.\n",
    "\n",
    "Example: If we were studying study time/caffine intake, and our RMSE was 1.5, it would be like saying our estimates using this model are typically off by 1.5 hours. (See Khan Academy stats notes for more)."
   ]
  },
  {
   "cell_type": "markdown",
   "metadata": {},
   "source": [
    "## How to run\n",
    "(First we perform various data wrangling/feature engineering and save the data a file using feather. This is quite an involved process, not deep learning specific. See the lesson3-rossman notebook for exact details of these steps.)"
   ]
  },
  {
   "cell_type": "code",
   "execution_count": 1,
   "metadata": {},
   "outputs": [],
   "source": [
    "# Import the libraries and set the path\n",
    "\n",
    "%matplotlib inline\n",
    "%reload_ext autoreload\n",
    "%autoreload 2\n",
    "\n",
    "from fastai.structured import *\n",
    "from fastai.column_data import *\n",
    "np.set_printoptions(threshold=50, edgeitems=20)\n",
    "\n",
    "PATH='data/rossmann/'"
   ]
  },
  {
   "cell_type": "code",
   "execution_count": 2,
   "metadata": {},
   "outputs": [],
   "source": [
    "# Load up the data from our previously created files\n",
    "joined = pd.read_feather(f'{PATH}joined')\n",
    "joined_test = pd.read_feather(f'{PATH}joined_test')"
   ]
  },
  {
   "cell_type": "code",
   "execution_count": 4,
   "metadata": {},
   "outputs": [
    {
     "data": {
      "text/html": [
       "<div>\n",
       "<style scoped>\n",
       "    .dataframe tbody tr th:only-of-type {\n",
       "        vertical-align: middle;\n",
       "    }\n",
       "\n",
       "    .dataframe tbody tr th {\n",
       "        vertical-align: top;\n",
       "    }\n",
       "\n",
       "    .dataframe thead th {\n",
       "        text-align: right;\n",
       "    }\n",
       "</style>\n",
       "<table border=\"1\" class=\"dataframe\">\n",
       "  <thead>\n",
       "    <tr style=\"text-align: right;\">\n",
       "      <th></th>\n",
       "      <th>index</th>\n",
       "      <th>Store</th>\n",
       "      <th>DayOfWeek</th>\n",
       "      <th>Date</th>\n",
       "      <th>Sales</th>\n",
       "      <th>Customers</th>\n",
       "      <th>Open</th>\n",
       "      <th>Promo</th>\n",
       "      <th>StateHoliday</th>\n",
       "      <th>SchoolHoliday</th>\n",
       "      <th>...</th>\n",
       "      <th>AfterStateHoliday</th>\n",
       "      <th>BeforeStateHoliday</th>\n",
       "      <th>AfterPromo</th>\n",
       "      <th>BeforePromo</th>\n",
       "      <th>SchoolHoliday_bw</th>\n",
       "      <th>StateHoliday_bw</th>\n",
       "      <th>Promo_bw</th>\n",
       "      <th>SchoolHoliday_fw</th>\n",
       "      <th>StateHoliday_fw</th>\n",
       "      <th>Promo_fw</th>\n",
       "    </tr>\n",
       "  </thead>\n",
       "  <tbody>\n",
       "    <tr>\n",
       "      <th>0</th>\n",
       "      <td>0</td>\n",
       "      <td>1</td>\n",
       "      <td>5</td>\n",
       "      <td>2015-07-31</td>\n",
       "      <td>5263</td>\n",
       "      <td>555</td>\n",
       "      <td>1</td>\n",
       "      <td>1</td>\n",
       "      <td>False</td>\n",
       "      <td>1</td>\n",
       "      <td>...</td>\n",
       "      <td>NaN</td>\n",
       "      <td>NaN</td>\n",
       "      <td>NaN</td>\n",
       "      <td>NaN</td>\n",
       "      <td>NaN</td>\n",
       "      <td>NaN</td>\n",
       "      <td>NaN</td>\n",
       "      <td>NaN</td>\n",
       "      <td>NaN</td>\n",
       "      <td>NaN</td>\n",
       "    </tr>\n",
       "    <tr>\n",
       "      <th>1</th>\n",
       "      <td>1</td>\n",
       "      <td>2</td>\n",
       "      <td>5</td>\n",
       "      <td>2015-07-31</td>\n",
       "      <td>6064</td>\n",
       "      <td>625</td>\n",
       "      <td>1</td>\n",
       "      <td>1</td>\n",
       "      <td>False</td>\n",
       "      <td>1</td>\n",
       "      <td>...</td>\n",
       "      <td>NaN</td>\n",
       "      <td>NaN</td>\n",
       "      <td>NaN</td>\n",
       "      <td>NaN</td>\n",
       "      <td>NaN</td>\n",
       "      <td>NaN</td>\n",
       "      <td>NaN</td>\n",
       "      <td>NaN</td>\n",
       "      <td>NaN</td>\n",
       "      <td>NaN</td>\n",
       "    </tr>\n",
       "    <tr>\n",
       "      <th>2</th>\n",
       "      <td>2</td>\n",
       "      <td>3</td>\n",
       "      <td>5</td>\n",
       "      <td>2015-07-31</td>\n",
       "      <td>8314</td>\n",
       "      <td>821</td>\n",
       "      <td>1</td>\n",
       "      <td>1</td>\n",
       "      <td>False</td>\n",
       "      <td>1</td>\n",
       "      <td>...</td>\n",
       "      <td>NaN</td>\n",
       "      <td>NaN</td>\n",
       "      <td>NaN</td>\n",
       "      <td>NaN</td>\n",
       "      <td>NaN</td>\n",
       "      <td>NaN</td>\n",
       "      <td>NaN</td>\n",
       "      <td>NaN</td>\n",
       "      <td>NaN</td>\n",
       "      <td>NaN</td>\n",
       "    </tr>\n",
       "    <tr>\n",
       "      <th>3</th>\n",
       "      <td>3</td>\n",
       "      <td>4</td>\n",
       "      <td>5</td>\n",
       "      <td>2015-07-31</td>\n",
       "      <td>13995</td>\n",
       "      <td>1498</td>\n",
       "      <td>1</td>\n",
       "      <td>1</td>\n",
       "      <td>False</td>\n",
       "      <td>1</td>\n",
       "      <td>...</td>\n",
       "      <td>NaN</td>\n",
       "      <td>NaN</td>\n",
       "      <td>NaN</td>\n",
       "      <td>NaN</td>\n",
       "      <td>NaN</td>\n",
       "      <td>NaN</td>\n",
       "      <td>NaN</td>\n",
       "      <td>NaN</td>\n",
       "      <td>NaN</td>\n",
       "      <td>NaN</td>\n",
       "    </tr>\n",
       "    <tr>\n",
       "      <th>4</th>\n",
       "      <td>4</td>\n",
       "      <td>5</td>\n",
       "      <td>5</td>\n",
       "      <td>2015-07-31</td>\n",
       "      <td>4822</td>\n",
       "      <td>559</td>\n",
       "      <td>1</td>\n",
       "      <td>1</td>\n",
       "      <td>False</td>\n",
       "      <td>1</td>\n",
       "      <td>...</td>\n",
       "      <td>NaN</td>\n",
       "      <td>NaN</td>\n",
       "      <td>NaN</td>\n",
       "      <td>NaN</td>\n",
       "      <td>NaN</td>\n",
       "      <td>NaN</td>\n",
       "      <td>NaN</td>\n",
       "      <td>NaN</td>\n",
       "      <td>NaN</td>\n",
       "      <td>NaN</td>\n",
       "    </tr>\n",
       "  </tbody>\n",
       "</table>\n",
       "<p>5 rows × 93 columns</p>\n",
       "</div>"
      ],
      "text/plain": [
       "   index  Store  DayOfWeek       Date  Sales  Customers  Open  Promo  \\\n",
       "0      0      1          5 2015-07-31   5263        555     1      1   \n",
       "1      1      2          5 2015-07-31   6064        625     1      1   \n",
       "2      2      3          5 2015-07-31   8314        821     1      1   \n",
       "3      3      4          5 2015-07-31  13995       1498     1      1   \n",
       "4      4      5          5 2015-07-31   4822        559     1      1   \n",
       "\n",
       "   StateHoliday  SchoolHoliday    ...     AfterStateHoliday  \\\n",
       "0         False              1    ...                   NaN   \n",
       "1         False              1    ...                   NaN   \n",
       "2         False              1    ...                   NaN   \n",
       "3         False              1    ...                   NaN   \n",
       "4         False              1    ...                   NaN   \n",
       "\n",
       "   BeforeStateHoliday  AfterPromo  BeforePromo  SchoolHoliday_bw  \\\n",
       "0                 NaN         NaN          NaN               NaN   \n",
       "1                 NaN         NaN          NaN               NaN   \n",
       "2                 NaN         NaN          NaN               NaN   \n",
       "3                 NaN         NaN          NaN               NaN   \n",
       "4                 NaN         NaN          NaN               NaN   \n",
       "\n",
       "   StateHoliday_bw  Promo_bw  SchoolHoliday_fw  StateHoliday_fw  Promo_fw  \n",
       "0              NaN       NaN               NaN              NaN       NaN  \n",
       "1              NaN       NaN               NaN              NaN       NaN  \n",
       "2              NaN       NaN               NaN              NaN       NaN  \n",
       "3              NaN       NaN               NaN              NaN       NaN  \n",
       "4              NaN       NaN               NaN              NaN       NaN  \n",
       "\n",
       "[5 rows x 93 columns]"
      ]
     },
     "execution_count": 4,
     "metadata": {},
     "output_type": "execute_result"
    }
   ],
   "source": [
    "# This file contains one big data frame made up of data joined together from other data frames/files\n",
    "# (Hence why the dataframe is called \"joined\")\n",
    "joined.head()"
   ]
  },
  {
   "cell_type": "code",
   "execution_count": 7,
   "metadata": {},
   "outputs": [],
   "source": [
    "# Now we need to create our categorical variables and continuous variables\n",
    "categorical_variables = ['Store', 'DayOfWeek', 'Year', 'Month', 'Day', 'StateHoliday', 'CompetitionMonthsOpen',\n",
    "    'Promo2Weeks', 'StoreType', 'Assortment', 'PromoInterval', 'CompetitionOpenSinceYear', 'Promo2SinceYear',\n",
    "    'State', 'Week', 'Events', 'Promo_fw', 'Promo_bw', 'StateHoliday_fw', 'StateHoliday_bw',\n",
    "    'SchoolHoliday_fw', 'SchoolHoliday_bw']\n",
    "\n",
    "continuous_variables = ['CompetitionDistance', 'Max_TemperatureC', 'Mean_TemperatureC', 'Min_TemperatureC',\n",
    "   'Max_Humidity', 'Mean_Humidity', 'Min_Humidity', 'Max_Wind_SpeedKm_h', \n",
    "   'Mean_Wind_SpeedKm_h', 'CloudCover', 'trend', 'trend_DE',\n",
    "   'AfterStateHoliday', 'BeforeStateHoliday', 'Promo', 'SchoolHoliday']"
   ]
  },
  {
   "cell_type": "code",
   "execution_count": 8,
   "metadata": {},
   "outputs": [],
   "source": [
    "dependent_variable = 'Sales'\n",
    "joined = joined[categorical_variables+continuous_variables+[dependent_variable, 'Date']].copy()"
   ]
  },
  {
   "cell_type": "code",
   "execution_count": 10,
   "metadata": {},
   "outputs": [],
   "source": [
    "joined_test[dependent_variable] = 0\n",
    "joined_test = joined_test[categorical_variables+continuous_variables+[dependent_variable, 'Date', 'Id']].copy()"
   ]
  },
  {
   "cell_type": "code",
   "execution_count": 11,
   "metadata": {},
   "outputs": [],
   "source": [
    "# Transform specific columns in the dataframe to category types\n",
    "for variable in categorical_variables: joined[variable] = joined[variable].astype('category').cat.as_ordered()"
   ]
  },
  {
   "cell_type": "code",
   "execution_count": 12,
   "metadata": {},
   "outputs": [],
   "source": [
    "# Transform any string columns in categorical variables using joined as a template\n",
    "apply_cats(joined_test, joined)"
   ]
  },
  {
   "cell_type": "code",
   "execution_count": 14,
   "metadata": {},
   "outputs": [],
   "source": [
    "# Now we will transform the continuous variable columns.\n",
    "# These are transformed to float32 because this is the type expected by PyTorch\n",
    "for variable in continuous_variables:\n",
    "    joined[variable] = joined[variable].astype('float32')\n",
    "    joined_test[variable] = joined_test[variable].astype('float32')"
   ]
  },
  {
   "cell_type": "code",
   "execution_count": 32,
   "metadata": {},
   "outputs": [
    {
     "data": {
      "text/plain": [
       "150000"
      ]
     },
     "execution_count": 32,
     "metadata": {},
     "output_type": "execute_result"
    }
   ],
   "source": [
    "# We're going to create some sample data to run on\n",
    "joined_size = len(joined)\n",
    "\n",
    "indices = get_cv_idxs(joined_size, val_pct=150000/joined_size)\n",
    "joined_sample = joined.iloc[indices].set_index('Date')\n",
    "\n",
    "sample_size = len(joined_sample)\n",
    "sample_size"
   ]
  },
  {
   "cell_type": "code",
   "execution_count": 23,
   "metadata": {},
   "outputs": [],
   "source": [
    "# We need to do a quick data fix\n",
    "joined_sample['AfterStateHoliday']=joined_sample['AfterStateHoliday'].fillna(0)\n",
    "joined_sample['BeforeStateHoliday']=joined_sample['BeforeStateHoliday'].fillna(0)"
   ]
  },
  {
   "cell_type": "code",
   "execution_count": 30,
   "metadata": {},
   "outputs": [],
   "source": [
    "# Now we set up our data by processing our dataframe\n",
    "# joined_sample is passed in, and we get df (dataframe) out\n",
    "# But this dataframe has the dependent variable -- Sales -- removed\n",
    "# Neural nets like input data to be aruond 0 with standard deviation of 1. do_scale=True sets this up\n",
    "# nas sets na values to 0s or a median value for continuous data\n",
    "# mapper stores the results from do_scale so the same scaling can be applied to the test set\n",
    "df, dependent_variable, nas, mapper = proc_df(joined_sample, 'Sales', do_scale=True)\n",
    "\n",
    "# This is to make the evaluation metric easier\n",
    "dependent_variable_log = np.log(dependent_variable)"
   ]
  },
  {
   "cell_type": "code",
   "execution_count": 36,
   "metadata": {},
   "outputs": [],
   "source": [
    "# Set up our test data in the same way\n",
    "joined_test = joined_test.set_index(\"Date\")\n",
    "df_test, _, nas, mapper = proc_df(joined_test, 'Sales', do_scale=True, skip_flds=['Id'],\n",
    "                                  mapper=mapper, na_dict=nas)"
   ]
  },
  {
   "cell_type": "code",
   "execution_count": 33,
   "metadata": {},
   "outputs": [],
   "source": [
    "# Take the last 25% of rows sorted by date as the cross-validation data\n",
    "# (In time-series, we don't want to just take random rows, as discussed above)\n",
    "training_ratio = 0.75\n",
    "training_size = int(sample_size * training_ratio)\n",
    "validation_indexes = list(range(training_size, len(df)))"
   ]
  },
  {
   "cell_type": "code",
   "execution_count": 34,
   "metadata": {},
   "outputs": [],
   "source": [
    "# Define the root mean squared percent error function\n",
    "def inv_y(a): return np.exp(a)\n",
    "\n",
    "def exp_rmspe(y_pred, targ):\n",
    "    targ = inv_y(targ)\n",
    "    pct_var = (targ - inv_y(y_pred))/targ\n",
    "    return math.sqrt((pct_var**2).mean())\n",
    "\n",
    "max_log_y = np.max(yl)\n",
    "y_range = (0, max_log_y*1.2)"
   ]
  },
  {
   "cell_type": "code",
   "execution_count": 37,
   "metadata": {},
   "outputs": [],
   "source": [
    "# Now we set up our model data.\n",
    "model_data = ColumnarModelData.from_data_frame(PATH, validation_indexes, df, dependent_variable_log.astype('float32'), cat_flds=categorical_variables, \n",
    "                                              bs=128, test_df=df_test)"
   ]
  },
  {
   "cell_type": "code",
   "execution_count": 38,
   "metadata": {},
   "outputs": [],
   "source": [
    "# Now we set up the size of our encoding matrices\n",
    "# First, we want to get the size of each of categories, and add +1 to account for the 'Unknown' category\n",
    "category_sizes = [(category, len(joined_sample[category].cat.categories)+1) for category in categorical_variables]"
   ]
  },
  {
   "cell_type": "code",
   "execution_count": 39,
   "metadata": {},
   "outputs": [
    {
     "data": {
      "text/plain": [
       "[('Store', 1116),\n",
       " ('DayOfWeek', 8),\n",
       " ('Year', 4),\n",
       " ('Month', 13),\n",
       " ('Day', 32),\n",
       " ('StateHoliday', 3),\n",
       " ('CompetitionMonthsOpen', 26),\n",
       " ('Promo2Weeks', 27),\n",
       " ('StoreType', 5),\n",
       " ('Assortment', 4),\n",
       " ('PromoInterval', 4),\n",
       " ('CompetitionOpenSinceYear', 24),\n",
       " ('Promo2SinceYear', 9),\n",
       " ('State', 13),\n",
       " ('Week', 53),\n",
       " ('Events', 22),\n",
       " ('Promo_fw', 1),\n",
       " ('Promo_bw', 1),\n",
       " ('StateHoliday_fw', 1),\n",
       " ('StateHoliday_bw', 1),\n",
       " ('SchoolHoliday_fw', 1),\n",
       " ('SchoolHoliday_bw', 1)]"
      ]
     },
     "execution_count": 39,
     "metadata": {},
     "output_type": "execute_result"
    }
   ],
   "source": [
    "category_sizes"
   ]
  },
  {
   "cell_type": "code",
   "execution_count": 41,
   "metadata": {},
   "outputs": [],
   "source": [
    "# Then we use the number of categories/2, with a cap of 50 to set the encoding matrix size\n",
    "# (This is a heuristic)\n",
    "embedding_sizes = [(category, min(50, (category+1)//2)) for _, category in category_sizes]"
   ]
  },
  {
   "cell_type": "code",
   "execution_count": 42,
   "metadata": {},
   "outputs": [
    {
     "data": {
      "text/plain": [
       "[(1116, 50),\n",
       " (8, 4),\n",
       " (4, 2),\n",
       " (13, 7),\n",
       " (32, 16),\n",
       " (3, 2),\n",
       " (26, 13),\n",
       " (27, 14),\n",
       " (5, 3),\n",
       " (4, 2),\n",
       " (4, 2),\n",
       " (24, 12),\n",
       " (9, 5),\n",
       " (13, 7),\n",
       " (53, 27),\n",
       " (22, 11),\n",
       " (1, 1),\n",
       " (1, 1),\n",
       " (1, 1),\n",
       " (1, 1),\n",
       " (1, 1),\n",
       " (1, 1)]"
      ]
     },
     "execution_count": 42,
     "metadata": {},
     "output_type": "execute_result"
    }
   ],
   "source": [
    "embedding_sizes"
   ]
  },
  {
   "cell_type": "code",
   "execution_count": 43,
   "metadata": {},
   "outputs": [],
   "source": [
    "# Now we'll find the learning rate\n",
    "# len(df.columns)-len(categorical_variables) = get the number of continuous variables\n",
    "# 0.04 = dropout\n",
    "# [1000, 500] = number of activations in each layer\n",
    "# [0.001, 0.01] = dropout in later layers\n",
    "\n",
    "m = model_data.get_learner(embedding_sizes, len(df.columns)-len(categorical_variables),\n",
    "                   0.04, 1, [1000,500], [0.001,0.01], y_range=y_range)\n",
    "lr = 1e-3"
   ]
  },
  {
   "cell_type": "code",
   "execution_count": 44,
   "metadata": {},
   "outputs": [
    {
     "data": {
      "application/vnd.jupyter.widget-view+json": {
       "model_id": "094aec121e70434b8cfaae19fe8f4946",
       "version_major": 2,
       "version_minor": 0
      },
      "text/html": [
       "<p>Failed to display Jupyter Widget of type <code>HBox</code>.</p>\n",
       "<p>\n",
       "  If you're reading this message in the Jupyter Notebook or JupyterLab Notebook, it may mean\n",
       "  that the widgets JavaScript is still loading. If this message persists, it\n",
       "  likely means that the widgets JavaScript library is either not installed or\n",
       "  not enabled. See the <a href=\"https://ipywidgets.readthedocs.io/en/stable/user_install.html\">Jupyter\n",
       "  Widgets Documentation</a> for setup instructions.\n",
       "</p>\n",
       "<p>\n",
       "  If you're reading this message in another frontend (for example, a static\n",
       "  rendering on GitHub or <a href=\"https://nbviewer.jupyter.org/\">NBViewer</a>),\n",
       "  it may mean that your frontend doesn't currently support widgets.\n",
       "</p>\n"
      ],
      "text/plain": [
       "HBox(children=(IntProgress(value=0, description='Epoch', max=1), HTML(value='')))"
      ]
     },
     "metadata": {},
     "output_type": "display_data"
    },
    {
     "name": "stdout",
     "output_type": "stream",
     "text": [
      " 62%|██████▏   | 547/879 [00:07<00:04, 69.14it/s, loss=0.636]\n",
      "                                                             \r"
     ]
    }
   ],
   "source": [
    "m.lr_find()"
   ]
  },
  {
   "cell_type": "code",
   "execution_count": 45,
   "metadata": {},
   "outputs": [
    {
     "data": {
      "image/png": "[encoded data removed]",
      "text/plain": [
       "<matplotlib.figure.Figure at 0x7f9983f12b00>"
      ]
     },
     "metadata": {},
     "output_type": "display_data"
    }
   ],
   "source": [
    "m.sched.plot()"
   ]
  },
  {
   "cell_type": "code",
   "execution_count": 46,
   "metadata": {},
   "outputs": [
    {
     "data": {
      "application/vnd.jupyter.widget-view+json": {
       "model_id": "3a19898a43f14227b9ae1d3f6c5f4856",
       "version_major": 2,
       "version_minor": 0
      },
      "text/html": [
       "<p>Failed to display Jupyter Widget of type <code>HBox</code>.</p>\n",
       "<p>\n",
       "  If you're reading this message in the Jupyter Notebook or JupyterLab Notebook, it may mean\n",
       "  that the widgets JavaScript is still loading. If this message persists, it\n",
       "  likely means that the widgets JavaScript library is either not installed or\n",
       "  not enabled. See the <a href=\"https://ipywidgets.readthedocs.io/en/stable/user_install.html\">Jupyter\n",
       "  Widgets Documentation</a> for setup instructions.\n",
       "</p>\n",
       "<p>\n",
       "  If you're reading this message in another frontend (for example, a static\n",
       "  rendering on GitHub or <a href=\"https://nbviewer.jupyter.org/\">NBViewer</a>),\n",
       "  it may mean that your frontend doesn't currently support widgets.\n",
       "</p>\n"
      ],
      "text/plain": [
       "HBox(children=(IntProgress(value=0, description='Epoch', max=3), HTML(value='')))"
      ]
     },
     "metadata": {},
     "output_type": "display_data"
    },
    {
     "name": "stdout",
     "output_type": "stream",
     "text": [
      "epoch      trn_loss   val_loss   exp_rmspe                     \n",
      "    0      0.030914   0.029612   0.174102  \n",
      "    1      0.022637   0.01976    0.152743                      \n",
      "    2      0.018524   0.018284   0.14046                       \n",
      "\n"
     ]
    },
    {
     "data": {
      "text/plain": [
       "[0.018283583, 0.1404602349570145]"
      ]
     },
     "execution_count": 46,
     "metadata": {},
     "output_type": "execute_result"
    }
   ],
   "source": [
    "# Now we'll do our learning like usual\n",
    "# Note we can pass in whatever metric we want. This will just be printed out after each epoch.\n",
    "m.fit(lr, 3, metrics=[exp_rmspe])"
   ]
  },
  {
   "cell_type": "code",
   "execution_count": 47,
   "metadata": {},
   "outputs": [
    {
     "data": {
      "application/vnd.jupyter.widget-view+json": {
       "model_id": "721faa8ee864464fa7ab805696074279",
       "version_major": 2,
       "version_minor": 0
      },
      "text/html": [
       "<p>Failed to display Jupyter Widget of type <code>HBox</code>.</p>\n",
       "<p>\n",
       "  If you're reading this message in the Jupyter Notebook or JupyterLab Notebook, it may mean\n",
       "  that the widgets JavaScript is still loading. If this message persists, it\n",
       "  likely means that the widgets JavaScript library is either not installed or\n",
       "  not enabled. See the <a href=\"https://ipywidgets.readthedocs.io/en/stable/user_install.html\">Jupyter\n",
       "  Widgets Documentation</a> for setup instructions.\n",
       "</p>\n",
       "<p>\n",
       "  If you're reading this message in another frontend (for example, a static\n",
       "  rendering on GitHub or <a href=\"https://nbviewer.jupyter.org/\">NBViewer</a>),\n",
       "  it may mean that your frontend doesn't currently support widgets.\n",
       "</p>\n"
      ],
      "text/plain": [
       "HBox(children=(IntProgress(value=0, description='Epoch', max=5), HTML(value='')))"
      ]
     },
     "metadata": {},
     "output_type": "display_data"
    },
    {
     "name": "stdout",
     "output_type": "stream",
     "text": [
      "epoch      trn_loss   val_loss   exp_rmspe                     \n",
      "    0      0.013564   0.014091   0.122443  \n",
      "    1      0.012933   0.01352    0.119295                      \n",
      "    2      0.012006   0.012626   0.115652                      \n",
      "    3      0.011302   0.012518   0.114587                      \n",
      "    4      0.010589   0.012158   0.113845                      \n",
      "\n"
     ]
    },
    {
     "data": {
      "text/plain": [
       "[0.012157828, 0.11384540231735718]"
      ]
     },
     "execution_count": 47,
     "metadata": {},
     "output_type": "execute_result"
    }
   ],
   "source": [
    "m.fit(lr, 5, metrics=[exp_rmspe], cycle_len=1)"
   ]
  },
  {
   "cell_type": "code",
   "execution_count": 48,
   "metadata": {},
   "outputs": [
    {
     "data": {
      "application/vnd.jupyter.widget-view+json": {
       "model_id": "a262fcdb981b4c3f906ef640b4899594",
       "version_major": 2,
       "version_minor": 0
      },
      "text/html": [
       "<p>Failed to display Jupyter Widget of type <code>HBox</code>.</p>\n",
       "<p>\n",
       "  If you're reading this message in the Jupyter Notebook or JupyterLab Notebook, it may mean\n",
       "  that the widgets JavaScript is still loading. If this message persists, it\n",
       "  likely means that the widgets JavaScript library is either not installed or\n",
       "  not enabled. See the <a href=\"https://ipywidgets.readthedocs.io/en/stable/user_install.html\">Jupyter\n",
       "  Widgets Documentation</a> for setup instructions.\n",
       "</p>\n",
       "<p>\n",
       "  If you're reading this message in another frontend (for example, a static\n",
       "  rendering on GitHub or <a href=\"https://nbviewer.jupyter.org/\">NBViewer</a>),\n",
       "  it may mean that your frontend doesn't currently support widgets.\n",
       "</p>\n"
      ],
      "text/plain": [
       "HBox(children=(IntProgress(value=0, description='Epoch', max=8), HTML(value='')))"
      ]
     },
     "metadata": {},
     "output_type": "display_data"
    },
    {
     "name": "stdout",
     "output_type": "stream",
     "text": [
      "epoch      trn_loss   val_loss   exp_rmspe                     \n",
      "    0      0.014235   0.013558   0.124943  \n",
      "    1      0.011222   0.013527   0.118383                      \n",
      "    2      0.009054   0.011497   0.110866                       \n",
      "    3      0.007939   0.011174   0.109424                       \n",
      "    4      0.012106   0.012363   0.122124                      \n",
      "    5      0.00942    0.012937   0.115548                       \n",
      "    6      0.008067   0.010562   0.108079                      \n",
      "    7      0.007329   0.010672   0.107174                       \n",
      "\n"
     ]
    },
    {
     "data": {
      "text/plain": [
       "[0.010672021, 0.10717355006380637]"
      ]
     },
     "execution_count": 48,
     "metadata": {},
     "output_type": "execute_result"
    }
   ],
   "source": [
    "m.fit(lr, 2, metrics=[exp_rmspe], cycle_len=4)"
   ]
  },
  {
   "cell_type": "markdown",
   "metadata": {},
   "source": [
    "At this point, out model looks like it's working, so we'd train it on the full training set, and then run the test set.\n",
    "\n",
    "Then we'd create our file for submission."
   ]
  },
  {
   "cell_type": "code",
   "execution_count": null,
   "metadata": {},
   "outputs": [],
   "source": []
  }
 ],
 "metadata": {
  "kernelspec": {
   "display_name": "Python 3",
   "language": "python",
   "name": "python3"
  },
  "language_info": {
   "codemirror_mode": {
    "name": "ipython",
    "version": 3
   },
   "file_extension": ".py",
   "mimetype": "text/x-python",
   "name": "python",
   "nbconvert_exporter": "python",
   "pygments_lexer": "ipython3",
   "version": "3.6.4"
  }
 },
 "nbformat": 4,
 "nbformat_minor": 2
}
