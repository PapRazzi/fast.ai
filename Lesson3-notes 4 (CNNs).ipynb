{
 "cells": [
  {
   "cell_type": "markdown",
   "metadata": {},
   "source": [
    "# Convolutional Neural Networks (CNNs)\n",
    "Convolutional neural networks are the workhorses of image recognition.\n",
    "\n",
    "The filters (a.k.a, image kernels) and the weights in fully connected layers are learned using stochastic gradient descent (minimizing the cost function -- the measure of difference between expected and actual), but in this explanation, we will assume we are using a pretrained network where these values are already learned.\n",
    "\n",
    "## Features\n",
    "First principle: an image can be made up of a number of features. For example, an X could be thought of as being made up of upper_left-to-lower_right diagonals, upper_right-to-lower_left diagonals, and a cross in the middle.\n",
    "\n",
    "<img src=\"images/cnn1.jpg\" height=400, width=500>\n",
    "\n",
    "These filters to detect certain features can be called __filters__ or __kernels__.\n",
    "\n",
    "Now, every pixel in our image has some value -- for example, a grayscale value (or, in the case of a coloured image, 3 values -- R, G, and B.)\n",
    "\n",
    "<img src=\"images/cnn2.jpg\" height=300, width=300>\n",
    "\n",
    "## The layers in a CNN\n",
    "In a CNN, we essentially have 4 types of layer:\n",
    "\n",
    "1. Convolution layer (detect features)\n",
    "2. ReLU layer (turn -ves into 0s to stop math blowing up)\n",
    "3. Max pooling layer (shrink the image resolution to save memory/increase speed)\n",
    "4. Fully connected layer (multiply pixel values by weights to guess what the object is)\n",
    "\n",
    "Exactly how you organize these layers and how many of them you have -- i.e., organizing the hyperparameters -- is kind of an art.\n",
    "\n",
    "### 1. Convolution layer\n",
    "In the convolution layer, we take our filters and move them across every pixel in the image.\n",
    "At each position, we:\n",
    "\n",
    "1. Multiply each kernel value by each corresponding pixel value\n",
    "2. Add up all of these multiplied values\n",
    "3. Divide by the number of pixels (at least some CNNs seem to do this, others don't)\n",
    "\n",
    "This will leave us with a stack of filtered images, where we have a value for each pixel. We should be able to see the patterns in these matched images. In the filtered images, high activations will map to where the feature appeared. So already we've started to detect parts of the images, such as edges."
   ]
  },
  {
   "cell_type": "code",
   "execution_count": 5,
   "metadata": {},
   "outputs": [
    {
     "data": {
      "text/plain": [
       "array([[ 1,  1,  1],\n",
       "       [ 0,  0,  0],\n",
       "       [-1, -1, -1]])"
      ]
     },
     "execution_count": 5,
     "metadata": {},
     "output_type": "execute_result"
    }
   ],
   "source": [
    "# For example to detect horizontal lines, we might use a filter (kernel) like this:\n",
    "import numpy as np\n",
    "\n",
    "horizontal_line_kernel = np.array([[1, 1, 1],\n",
    "                                   [0, 0, 0,],\n",
    "                                   [-1, -1, -1]])\n",
    "\n",
    "horizontal_line_kernel"
   ]
  },
  {
   "cell_type": "markdown",
   "metadata": {},
   "source": [
    "If you think about it, applying this kernel will give high activations where we have a horizontal line with blank space underneath. If we have a vertical line, the 1s on the top row will be cancelled out by the -1s on the bottom row, so vertical lines will be ignored.\n",
    "\n",
    "We can see an example of this filter being used in conv_example.ods.\n",
    "\n",
    "<img src=\"images/cnn3.jpg\" height=500, width=500>\n"
   ]
  },
  {
   "cell_type": "code",
   "execution_count": 6,
   "metadata": {},
   "outputs": [
    {
     "data": {
      "text/plain": [
       "array([[ 1,  0, -1],\n",
       "       [ 1,  0, -1],\n",
       "       [ 1,  0, -1]])"
      ]
     },
     "execution_count": 6,
     "metadata": {},
     "output_type": "execute_result"
    }
   ],
   "source": [
    "# Likewise we could detect vertical lines by using a kernal like this:\n",
    "\n",
    "vertical_line_kernel = np.array([[1, 0, -1],\n",
    "                                 [1, 0, -1],\n",
    "                                 [1, 0, -1]])\n",
    "\n",
    "vertical_line_kernel"
   ]
  },
  {
   "cell_type": "markdown",
   "metadata": {},
   "source": [
    "So now we could detect vertical lines too:\n",
    "\n",
    "<img src=\"images/cnn4.jpg\" height=500, width=500>\n",
    "\n",
    "So in our first layer, a convolution layer, we have picked out the horizontal and vertical lines from our images."
   ]
  },
  {
   "cell_type": "markdown",
   "metadata": {},
   "source": [
    "### 2. ReLU Layer\n",
    "ReLU stands for __Rectified Linear Unit__. All this means is that we take each pixel and turns any -ves into 0. \n",
    "\n",
    "`Max(0, activation function(pixels))`\n",
    "\n",
    "This is just to stop the maths blowing up?\n",
    "\n",
    "<img src=\"images/cnn5.jpg\" height=500, width=500>\n"
   ]
  },
  {
   "cell_type": "markdown",
   "metadata": {},
   "source": [
    "### 3. Max Pooling Layer\n",
    "The aim of the max pooling layer is to shrink the size of our images while keeping the same general pattern in order to save memory and reduce processing time.\n",
    "\n",
    "The algorithm is like this:\n",
    "\n",
    "1. Choose a window size (typically 2x2)\n",
    "2. Choose a step size (typically 2 -- so we don't overlap)\n",
    "3. Move the window by the step size, and at each step, take the maximum value in the window\n",
    "\n",
    "<img src=\"images/cnn6.jpg\" height=500, width=500>\n",
    "\n",
    "So, so far our steps taken together have taken an image, detected features, got rid of -ves, and then mapped the features onto smaller images.\n",
    "\n",
    "<img src=\"images/cnn7.jpg\" height=500, width=500>\n",
    "\n",
    "Not that these layers may be stacked. For example, you might do several convolutions in order to detect, e.g., a horizontal edge at the top and a vertical edge at the right to make a 7."
   ]
  },
  {
   "cell_type": "markdown",
   "metadata": {},
   "source": [
    "### 4. Fully Connected Layer\n",
    "Now, each of our output classes if connected to each of our filters, and each of these connections has a weight attached to it. The weights have calculated by gradient descent such that certain pixel images will give high output activations for this class. For example, if we were detecting a seven, we can imagine the pixel positions for a horizontal bar near the top of the image, and a vertical bar at the right of the image would be connected to high weights, whereas a vertical bar at the bottom of the image would be connected to low weights.\n",
    "\n",
    "By multiplying each of the values in all of our feature image by the weights, we can get a prediction for each output class.\n",
    "\n",
    "<img src=\"images/cnn8.jpg\" height=500, width=500>\n",
    "\n",
    "\n",
    "In code, this means we have a series of weight matrices: 1 for each kernel, for each output class. If we had two image kernels -- two features we were searching for, say vertical and horizontal lines -- and 10 output classes -- say, 10 digits -- we would have 20 weight matrices.\n",
    "\n",
    "Each set of 2 weight matrices would give you a prediction for a certain class.\n",
    "\n",
    "In `conv-example.ods` we can see how two features generate a prediction for a certain class: we multiply each feature pixel by the corresponding weight matrix pixel, and sum them all up. Then we add together the scores for both of thes sums.\n",
    "\n",
    "<img src=\"images/cnn9.jpg\" height=500, width=500>\n"
   ]
  },
  {
   "cell_type": "markdown",
   "metadata": {},
   "source": [
    "### 5. Normalizing Prediction Scores (softmax)\n",
    "\n",
    "#### 5.1 A note on the natural logarithm/e\n",
    "\n",
    "Recall a few rules:\n",
    "\n",
    "$ln(x) == log_ex$\n",
    "\n",
    "$e^y=x == ln(x)=y$ (natural logarithm and e^ are inverse, i.e., ln tells you what what the power was in an $e^y=x$ equation)\n",
    "\n",
    "$ln(x\\cdot{y}) == ln(x) + ln(y)$\n",
    "\n",
    "$ln(\\frac{x}{y}) == ln(x) - ln(y)$\n",
    "\n",
    "\n",
    "### Back to it...\n",
    "We want each prediction to be between 0-1, and we want the sum of all predictions to add up to 1. I.e., we want to have a %-like score for each class.\n",
    "\n",
    "To do this, we use the __softmax__ function. It works like this:\n",
    "\n",
    "1. Take the score for each class\n",
    "2. Take $e^{score-for-each-class}$ This has the effect of getting rid of negatives, and also excentuating the differences between numbers\n",
    "3. Take the sum of (2)\n",
    "4. For each class, take $e^{score-for-each-class}$/(3) (in other words, it's like a %)\n",
    "\n",
    "Because in (2) we used $e^x$ to accentuate the difference between scores, we will tend to get one class with a particularly strong prediction, which is what we want.\n",
    "\n",
    "See `entropy_example.ods` for examples.\n",
    "\n",
    "<img src=\"images/cnn10.jpg\" height=500, width=500>\n",
    "\n",
    "Softmax is only implemented for the final layer."
   ]
  },
  {
   "cell_type": "code",
   "execution_count": 13,
   "metadata": {},
   "outputs": [],
   "source": [
    "def softmax(inputs):\n",
    "    return np.exp(inputs) / float(sum(np.exp(inputs)))"
   ]
  },
  {
   "cell_type": "code",
   "execution_count": 15,
   "metadata": {},
   "outputs": [
    {
     "name": "stdout",
     "output_type": "stream",
     "text": [
      "Graph X readings: range(-5, 50)\n",
      "Graph Y readings: [  2.23304715e-24   6.07005148e-24   1.65001106e-23   4.48519509e-23\n",
      "   1.21920243e-22   3.31413582e-22   9.00875516e-22   2.44883355e-21\n",
      "   6.65661973e-21   1.80945684e-20   4.91861366e-20   1.33701781e-19\n",
      "   3.63439123e-19   9.87929963e-19   2.68547207e-18   7.29986992e-18\n",
      "   1.98431037e-17   5.39391483e-17   1.46621807e-16   3.98559393e-16\n",
      "   1.08339676e-15   2.94497771e-15   8.00527940e-15   2.17606055e-14\n",
      "   5.91514586e-14   1.60790335e-13   4.37073446e-13   1.18808881e-12\n",
      "   3.22956021e-12   8.77885484e-12   2.38634016e-11   6.48674509e-11\n",
      "   1.76328013e-10   4.79309234e-10   1.30289758e-09   3.54164282e-09\n",
      "   9.62718331e-09   2.61693974e-08   7.11357975e-08   1.93367146e-07\n",
      "   5.25626399e-07   1.42880069e-06   3.88388295e-06   1.05574884e-05\n",
      "   2.86982290e-05   7.80098743e-05   2.12052824e-04   5.76419338e-04\n",
      "   1.56687021e-03   4.25919482e-03   1.15776919e-02   3.14714295e-02\n",
      "   8.55482149e-02   2.32544158e-01   6.32120559e-01]\n"
     ]
    },
    {
     "data": {
      "image/png": "[encoded data removed]",
      "text/plain": [
       "<matplotlib.figure.Figure at 0x19ec97a57f0>"
      ]
     },
     "metadata": {},
     "output_type": "display_data"
    }
   ],
   "source": [
    "import matplotlib.pyplot as plt\n",
    " \n",
    "def line_graph(x, y, x_title, y_title):\n",
    "    plt.plot(x, y)\n",
    "    plt.xlabel(x_title)\n",
    "    plt.ylabel(y_title)\n",
    "    plt.show()\n",
    " \n",
    " \n",
    "graph_x = range(-5, 50)\n",
    "graph_y = softmax(graph_x)\n",
    " \n",
    "print(\"Graph X readings: {}\".format(graph_x))\n",
    "print(\"Graph Y readings: {}\".format(graph_y))\n",
    " \n",
    "line_graph(graph_x, graph_y, \"Inputs\", \"Softmax Scores\")"
   ]
  },
  {
   "cell_type": "markdown",
   "metadata": {},
   "source": [
    "## Note on tensors\n",
    "In terms of practical implementation, our weight matrices, kernels (filters), filtered images, .etc, would be stored in __tensors__.\n",
    "\n",
    "For machine learning purposes, we can think of tensors as arrays, with higher rank tensors belonging to higher dimensional arrays.\n",
    "\n",
    "Typically, `tensor_dimensions = (number_of_features)+1`, where the + 1 is a dimension to represent the number of samples you have.\n",
    "\n",
    "For example, imagine you had an image. The features might be like this:\n",
    "\n",
    "* Number of pixels for width\n",
    "* Number of pixels for height\n",
    "* R, G, and B colors for each pixel\n",
    "\n",
    "So we might represent it using an array (tensor) for this dimension:\n",
    "\n",
    "`[H, W, RGB]`\n",
    "\n",
    "So, if our image was 48x48 pixels:\n",
    "\n",
    "`[48, 48, 3]`\n",
    "\n",
    "Then you could index each pixel's R, G, or B value.\n",
    "\n",
    "Think of it like having 3x(48*48) matrices -- one matrix for each R, G, and B value.\n",
    "\n",
    "<img src=\"images/cnn11.jpg\" height=500, width=500>\n",
    "\n",
    "Of course, this only represents a single image, so in order to access the images, you need to add another index for sample number. So if you had 10,000 images, the final tensor dimensions would look like this:\n",
    "\n",
    "`[10000, 48, 48, 3]`\n",
    "\n",
    "Likewise we can use tensors to store all of our filtered images, weights, etc."
   ]
  },
  {
   "cell_type": "markdown",
   "metadata": {},
   "source": [
    "## References:\n",
    "* https://www.youtube.com/watch?v=9C06ZPF8Uuc&feature=youtu.be\n",
    "* https://www.youtube.com/watch?v=FmpDIaiMIeA\n",
    "* https://www.youtube.com/watch?v=Oqm9vsf_hvU&feature=youtu.be\n",
    "* https://hackernoon.com/learning-ai-if-you-suck-at-math-p4-tensors-illustrated-with-cats-27f0002c9b32\n",
    "* https://hackernoon.com/learning-ai-if-you-suck-at-math-p5-deep-learning-and-convolutional-neural-nets-in-plain-english-cda79679bbe3#.xjah79lsd"
   ]
  },
  {
   "cell_type": "code",
   "execution_count": null,
   "metadata": {
    "collapsed": true
   },
   "outputs": [],
   "source": []
  }
 ],
 "metadata": {
  "kernelspec": {
   "display_name": "Python 3",
   "language": "python",
   "name": "python3"
  },
  "language_info": {
   "codemirror_mode": {
    "name": "ipython",
    "version": 3
   },
   "file_extension": ".py",
   "mimetype": "text/x-python",
   "name": "python",
   "nbconvert_exporter": "python",
   "pygments_lexer": "ipython3",
   "version": "3.6.3"
  }
 },
 "nbformat": 4,
 "nbformat_minor": 2
}
