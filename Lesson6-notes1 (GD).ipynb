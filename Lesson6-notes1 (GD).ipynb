{
 "cells": [
  {
   "cell_type": "markdown",
   "metadata": {},
   "source": [
    "## Gradient Descent\n",
    "\n",
    "This notebook shows to implement gradient descent from scratch to solve a linear regression problem.\n",
    "Reminder: In linear regression, we want to find the best fit line for a set of points."
   ]
  },
  {
   "cell_type": "code",
   "execution_count": 1,
   "metadata": {},
   "outputs": [],
   "source": [
    "# First do our imports\n",
    "%matplotlib inline\n",
    "from fastai.learner import *"
   ]
  },
  {
   "cell_type": "markdown",
   "metadata": {},
   "source": [
    "First we set up a funcion to generate some fake data. We will use the equation for a line: $y = ax+b$. And we want to find the values of $a$ and $b$ given values for $x$ and $y$ in our training set."
   ]
  },
  {
   "cell_type": "code",
   "execution_count": 2,
   "metadata": {},
   "outputs": [],
   "source": [
    "def lin(a, b, x):\n",
    "    return a*x+b\n",
    "\n",
    "def generate_fake_data(num_of_data, a, b):\n",
    "    x = s = np.random.uniform(0, 1, num_of_data)\n",
    "    # Create y (adding some noise)\n",
    "    y = lin(a,b,x) + 0.1 * np.random.normal(0, 3, num_of_data)\n",
    "    return x, y\n",
    "\n",
    "# Generate 50 fake data with a = 3 and b = 8\n",
    "x,y = generate_fake_data(50, 3., 8.)"
   ]
  },
  {
   "cell_type": "code",
   "execution_count": 3,
   "metadata": {},
   "outputs": [
    {
     "data": {
      "image/png": "[encoded data removed]",
      "text/plain": [
       "<matplotlib.figure.Figure at 0x7f3a18b88ac8>"
      ]
     },
     "metadata": {},
     "output_type": "display_data"
    }
   ],
   "source": [
    "plt.scatter(x,y, s=8); plt.xlabel(\"x\"); plt.ylabel(\"y\"); "
   ]
  },
  {
   "cell_type": "markdown",
   "metadata": {},
   "source": [
    "We need a cost/error function in order to tell how well your weights are working, and to update the weights.\n",
    "\n",
    "We'll use __Mean Squared Error__. That is, take the (prediction-actual), square it, and then take the mean of that for all of the samples you're processing."
   ]
  },
  {
   "cell_type": "code",
   "execution_count": 4,
   "metadata": {},
   "outputs": [],
   "source": [
    "def mean_squared_error(prediction, actual):\n",
    "    return ((prediction-actual)**2).mean()"
   ]
  },
  {
   "cell_type": "code",
   "execution_count": 5,
   "metadata": {},
   "outputs": [
    {
     "data": {
      "text/plain": [
       "array([14.65525,  7.04863, 14.88907, 14.11549,  7.94143, 13.53099,  7.84472, 10.23016,  8.65855,  8.37718,\n",
       "        7.35099, 10.29399, 10.99694,  5.38836, 11.36102, 14.6749 ,  9.90382, 13.18922, 12.16097, 14.93355,\n",
       "       13.87146,  7.64801,  6.31027,  8.65656, 13.41315,  6.29852, 12.70791, 13.35429, 11.38604, 13.41227,\n",
       "       10.32819,  8.81089,  6.88663,  9.2564 ,  5.46922, 12.98631, 13.20175,  5.48395,  9.57878,  6.42903,\n",
       "        5.05591,  5.31259,  5.231  ,  9.18251, 14.38702,  5.66927, 13.50826, 10.24821, 10.60107,  8.52362])"
      ]
     },
     "execution_count": 5,
     "metadata": {},
     "output_type": "execute_result"
    }
   ],
   "source": [
    "# Imagine have a = 10 and b = 5\n",
    "predictions = lin(10, 5, x)\n",
    "predictions"
   ]
  },
  {
   "cell_type": "code",
   "execution_count": 6,
   "metadata": {},
   "outputs": [
    {
     "data": {
      "text/plain": [
       "4.749004611062585"
      ]
     },
     "execution_count": 6,
     "metadata": {},
     "output_type": "execute_result"
    }
   ],
   "source": [
    "mean_squared_error(predictions, y)"
   ]
  },
  {
   "cell_type": "code",
   "execution_count": 7,
   "metadata": {},
   "outputs": [],
   "source": [
    "# Build a convenience function for this:\n",
    "def mean_squared_error_loss(a, b, x, y):\n",
    "    predictions = lin(a, b, x)\n",
    "    return mean_squared_error(predictions, y)"
   ]
  },
  {
   "cell_type": "code",
   "execution_count": 8,
   "metadata": {},
   "outputs": [
    {
     "data": {
      "text/plain": [
       "4.749004611062585"
      ]
     },
     "execution_count": 8,
     "metadata": {},
     "output_type": "execute_result"
    }
   ],
   "source": [
    "mean_squared_error_loss(10, 5, x, y)"
   ]
  },
  {
   "cell_type": "markdown",
   "metadata": {},
   "source": [
    "Now we will implement gradient descent, using 10,000 training samples, a=3 and b=8."
   ]
  },
  {
   "cell_type": "code",
   "execution_count": 9,
   "metadata": {},
   "outputs": [],
   "source": [
    "x,y = generate_fake_data(10000,3.,8.)"
   ]
  },
  {
   "cell_type": "code",
   "execution_count": 10,
   "metadata": {},
   "outputs": [],
   "source": [
    "# Next we need to convert these into PyTorch variables.\n",
    "# Recall variables support all tensor operations, and also automatic differentiation.\n",
    "x,y = V(x),V(y)"
   ]
  },
  {
   "cell_type": "code",
   "execution_count": 11,
   "metadata": {},
   "outputs": [
    {
     "data": {
      "text/plain": [
       "(Variable containing:\n",
       "  1.5703\n",
       " [torch.cuda.FloatTensor of size 1 (GPU 0)], Variable containing:\n",
       " -0.2834\n",
       " [torch.cuda.FloatTensor of size 1 (GPU 0)])"
      ]
     },
     "execution_count": 11,
     "metadata": {},
     "output_type": "execute_result"
    }
   ],
   "source": [
    "# Now we'll create random variables for a and b\n",
    "a = V(np.random.randn(1), requires_grad=True)\n",
    "b = V(np.random.randn(1), requires_grad=True)\n",
    "a,b"
   ]
  },
  {
   "cell_type": "code",
   "execution_count": 12,
   "metadata": {},
   "outputs": [
    {
     "name": "stdout",
     "output_type": "stream",
     "text": [
      "81.19774627685547\n",
      "0.951996386051178\n",
      "0.36481624841690063\n",
      "0.2984328866004944\n",
      "0.24998588860034943\n",
      "0.21288225054740906\n",
      "0.1844538152217865\n",
      "0.16267310082912445\n",
      "0.14598484337329865\n",
      "0.13319863379001617\n"
     ]
    }
   ],
   "source": [
    "# Now let's code up the gradient descent algorithm\n",
    "# Note: What makes this gradient descent is that we're processing all of our data at once.\n",
    "# In stochastic gradient descent we would only be processing a batch at a time.\n",
    "learning_rate = 1e-3\n",
    "\n",
    "# Do 10000 epochs\n",
    "for iteration in range(10000):\n",
    "    \n",
    "    # Forward pass: computer the loss\n",
    "    loss = mean_squared_error_loss(a,b,x,y)\n",
    "    \n",
    "    # Print out the loss every 1000 epochs\n",
    "    if (iteration % 1000) == 0:\n",
    "        print (loss.data[0])\n",
    "        \n",
    "    # Backward pass\n",
    "    # Compute the gradient of the loss. Will use all Variables with requires_grad=True\n",
    "    # After this, a.grad and b.grad will hold the gradient of the loss with respect to a and b\n",
    "    loss.backward()\n",
    "    \n",
    "    # Now update a and b using our computed gradients\n",
    "    # .grad = variable\n",
    "    # .data/.grad.data = tensor\n",
    "    a.data -= learning_rate * a.grad.data\n",
    "    b.data -= learning_rate * b.grad.data\n",
    "    \n",
    "    # Reset the gradients in place\n",
    "    a.grad.data.zero_()\n",
    "    b.grad.data.zero_()"
   ]
  },
  {
   "cell_type": "code",
   "execution_count": 13,
   "metadata": {},
   "outputs": [
    {
     "data": {
      "text/plain": [
       "(Variable containing:\n",
       "  3.6181\n",
       " [torch.cuda.FloatTensor of size 1 (GPU 0)], Variable containing:\n",
       "  7.6720\n",
       " [torch.cuda.FloatTensor of size 1 (GPU 0)])"
      ]
     },
     "execution_count": 13,
     "metadata": {},
     "output_type": "execute_result"
    }
   ],
   "source": [
    "# And check to see if our weights are as they should be...\n",
    "a, b"
   ]
  },
  {
   "cell_type": "code",
   "execution_count": 14,
   "metadata": {},
   "outputs": [],
   "source": [
    "# Pretty close!"
   ]
  },
  {
   "cell_type": "markdown",
   "metadata": {},
   "source": [
    "## Gradient descent for classification\n",
    "This is pretty similar, but we generate either 0 or 1 for y when generating data, and use a different cost function."
   ]
  },
  {
   "cell_type": "code",
   "execution_count": 15,
   "metadata": {},
   "outputs": [],
   "source": [
    "def generate_fake_data_classification(num_of_data, a, b):\n",
    "    x = s = np.random.uniform(0, 1, num_of_data)\n",
    "    y = lin(a,b,x) + 0.1 * np.random.normal(0, 3, num_of_data)\n",
    "    return x, np.where(y>10, 1, 0).astype(np.float32)"
   ]
  },
  {
   "cell_type": "code",
   "execution_count": 16,
   "metadata": {},
   "outputs": [
    {
     "data": {
      "text/plain": [
       "(Variable containing:\n",
       "  0.8148\n",
       "  0.9102\n",
       "  0.1850\n",
       "  0.5941\n",
       "  0.7239\n",
       " [torch.cuda.FloatTensor of size 5 (GPU 0)], Variable containing:\n",
       "  1\n",
       "  1\n",
       "  0\n",
       "  0\n",
       "  1\n",
       " [torch.cuda.FloatTensor of size 5 (GPU 0)])"
      ]
     },
     "execution_count": 16,
     "metadata": {},
     "output_type": "execute_result"
    }
   ],
   "source": [
    "x,y = generate_fake_data_classification(10000, 3., 8.)\n",
    "x,y = V(x),V(y)\n",
    "x[:5],y[:5]"
   ]
  },
  {
   "cell_type": "code",
   "execution_count": 17,
   "metadata": {},
   "outputs": [],
   "source": [
    "# Negative log likelihood cost function (I think)\n",
    "def nll(prediction, y):\n",
    "    prediction = torch.clamp(prediction, 1e-5, 1-1e-5)\n",
    "    return (y*prediction.log() + (1-y)*(1-prediction).log()).mean()"
   ]
  },
  {
   "cell_type": "code",
   "execution_count": 18,
   "metadata": {},
   "outputs": [],
   "source": [
    "# Randomly initialize weights\n",
    "a = V(np.random.randn(1), requires_grad=True)\n",
    "b = V(np.random.randn(1), requires_grad=True)"
   ]
  },
  {
   "cell_type": "code",
   "execution_count": 19,
   "metadata": {},
   "outputs": [
    {
     "name": "stdout",
     "output_type": "stream",
     "text": [
      "-1.0979423522949219 0.3346\n",
      "-5.494707107543945 0.3346\n",
      "-7.653990745544434 0.3346\n"
     ]
    }
   ],
   "source": [
    "# Gradient descent\n",
    "learning_rate = 1e-2\n",
    "\n",
    "for iteration in range(3000):\n",
    "    # Sigmoid function\n",
    "    p = (-lin(a,b,x)).exp()\n",
    "    prediction = 1/(1+p)\n",
    "    \n",
    "    loss = nll(prediction, y)\n",
    "    \n",
    "    if iteration % 1000 == 0:\n",
    "        print(loss.data[0], np.mean(to_np(y)==(to_np(prediction)>0.5)))\n",
    "        \n",
    "    # Update the weights\n",
    "    loss.backward()\n",
    "    \n",
    "    a.data -= learning_rate * a.grad.data\n",
    "    b.data -= learning_rate * b.grad.data\n",
    "    \n",
    "    a.grad.data.zero_()\n",
    "    b.grad.data.zero_()"
   ]
  },
  {
   "cell_type": "code",
   "execution_count": 20,
   "metadata": {},
   "outputs": [
    {
     "data": {
      "text/plain": [
       "(Variable containing:\n",
       "  3.1199\n",
       " [torch.cuda.FloatTensor of size 1 (GPU 0)], Variable containing:\n",
       "  11.5098\n",
       " [torch.cuda.FloatTensor of size 1 (GPU 0)])"
      ]
     },
     "execution_count": 20,
     "metadata": {},
     "output_type": "execute_result"
    }
   ],
   "source": [
    "a,b"
   ]
  },
  {
   "cell_type": "markdown",
   "metadata": {},
   "source": [
    "## Gradient Descent with NumPy\n",
    "We could also do gradient descent with pure NumPy. In this case we have to computer the derivatives with respect to each variable (weight) ourselves."
   ]
  },
  {
   "cell_type": "code",
   "execution_count": 21,
   "metadata": {},
   "outputs": [],
   "source": [
    "from matplotlib import rcParams, animation, rc\n",
    "from ipywidgets import interact, interactive, fixed\n",
    "from ipywidgets.widgets import *\n",
    "rc('animation', html='html5')\n",
    "rcParams['figure.figsize'] = 3, 3"
   ]
  },
  {
   "cell_type": "code",
   "execution_count": 22,
   "metadata": {},
   "outputs": [],
   "source": [
    "x,y = generate_fake_data(50, 3., 8.)"
   ]
  },
  {
   "cell_type": "code",
   "execution_count": 23,
   "metadata": {},
   "outputs": [
    {
     "data": {
      "text/plain": [
       "66.76043795624314"
      ]
     },
     "execution_count": 23,
     "metadata": {},
     "output_type": "execute_result"
    }
   ],
   "source": [
    "# Set up initial guesses for the weights\n",
    "a_guess,b_guess = -1.,1.\n",
    "mean_squared_error_loss(y, a_guess, b_guess, x)"
   ]
  },
  {
   "cell_type": "code",
   "execution_count": 24,
   "metadata": {},
   "outputs": [],
   "source": [
    "learning_rate = 0.01\n",
    "\n",
    "def update():\n",
    "    global a_guess, b_guess\n",
    "    prediction = lin(a_guess, b_guess, x)\n",
    "    \n",
    "    # These are the derivatives of our function with respect to the weights\n",
    "    dydb = 2*(prediction-y)\n",
    "    dyda = x*dydb\n",
    "    \n",
    "    a_guess -= learning_rate*dyda.mean()\n",
    "    b_guess -= learning_rate*dydb.mean()"
   ]
  },
  {
   "cell_type": "code",
   "execution_count": 26,
   "metadata": {},
   "outputs": [
    {
     "data": {
      "text/html": [
       "<video width=\"500\" height=\"400\" controls autoplay loop>\n",
       "  <source type=\"video/mp4\" src=\"data:video/mp4;base64,AAAAHGZ0eXBNNFYgAAACAGlzb21pc28yYXZjMQAAAAhmcmVlAABFZ21kYXQAAAKuBgX//6rcRem9\n",
       "5tlIt5Ys2CDZI+7veDI2NCAtIGNvcmUgMTQ4IHIyNzYgM2Y1ZWQ1NiAtIEguMjY0L01QRUctNCBB\n",
       "VkMgY29kZWMgLSBDb3B5bGVmdCAyMDAzLTIwMTYgLSBodHRwOi8vd3d3LnZpZGVvbGFuLm9yZy94\n",
       "MjY0Lmh0bWwgLSBvcHRpb25zOiBjYWJhYz0xIHJlZj0zIGRlYmxvY2s9MTowOjAgYW5hbHlzZT0w\n",
       "eDM6MHgxMTMgbWU9aGV4IHN1Ym1lPTcgcHN5PTEgcHN5X3JkPTEuMDA6MC4wMCBtaXhlZF9yZWY9\n",
       "MSBtZV9yYW5nZT0xNiBjaHJvbWFfbWU9MSB0cmVsbGlzPTEgOHg4ZGN0PTEgY3FtPTAgZGVhZHpv\n",
       "bmU9MjEsMTEgZmFzdF9wc2tpcD0xIGNocm9tYV9xcF9vZmZzZXQ9LTIgdGhyZWFkcz0xMiBsb29r\n",
       "YWhlYWRfdGhyZWFkcz0yIHNsaWNlZF90aHJlYWRzPTAgbnI9MCBkZWNpbWF0ZT0xIGludGVybGFj\n",
       "ZWQ9MCBibHVyYXlfY29tcGF0PTAgY29uc3RyYWluZWRfaW50cmE9MCBiZnJhbWVzPTMgYl9weXJh\n",
       "bWlkPTIgYl9hZGFwdD0xIGJfYmlhcz0wIGRpcmVjdD0xIHdlaWdodGI9MSBvcGVuX2dvcD0wIHdl\n",
       "aWdodHA9MiBrZXlpbnQ9MjUwIGtleWludF9taW49MTAgc2NlbmVjdXQ9NDAgaW50cmFfcmVmcmVz\n",
       "aD0wIHJjX2xvb2thaGVhZD00MCByYz1jcmYgbWJ0cmVlPTEgY3JmPTIzLjAgcWNvbXA9MC42MCBx\n",
       "cG1pbj0wIHFwbWF4PTY5IHFwc3RlcD00IGlwX3JhdGlvPTEuNDAgYXE9MToxLjAwAIAAABrrZYiE\n",
       "ABD//veBvzLLXyK6yXH5530srM885DxyXYmuuNAAAAMAAAMCdMWy7nddDaYdgAACrC//BZK4tgE0\n",
       "vKS6KfHheqPYFw+B+qle2KTENvOI3YlJb6SrelR4fw9VB5vP+nvKuV7H/EYxibrp7ZxSky83viPB\n",
       "SD693bgBE2M93iABMjsh1sdSzzYFD3/mZyCNUPmLaxWPw5THSochgQOGWMRl37BJ7ANoXj/zt7mQ\n",
       "t7olh8DZN34Oz1C9ymmxR8u0jyXt3BLeS7XJWQ1itl3wrMdLpP264SQ0FnbowOsOgFzdVrYS3I4Y\n",
       "bvdLpZOrWk3G8YXsP0UmJexeD75PDyjW/g0tCOsnUMbE0m+jwqAAZhXB1PTwB9uGxqaAQXcpzVPz\n",
       "AUiCvwzxiHHTUsf47JngOb0xYPd7t19NnVRB66ZsBSsVHApNHVPB05rkT65UFNof/1KtV3scrJgE\n",
       "2XOHyiCos5qwvgwU7HCXnt5IuAgN23KvyTZfI3ALpFqNOkiSrrvOGSnMXXzaqbSHCkLFaCliVUWq\n",
       "+xVKs47C5pFv+VL7IaMMKNgjqrWir54YBgc2CZBnVFctjy2GS5T++VDnLzTvihks3d4LikUsAS4M\n",
       "CKQwoDBgfroNMh11asQb2C3S0J/9Gafa1+ocnfyeIxsG/uPC14sImzRJqB1oNirnQ5dHHf4zvPb6\n",
       "1Y+MvQptrV9YWaP62+QEN8Y9b+YeLf0HwTG3ZrpaWjwXsdrl523/unUdOtJiba6S9C9C3HtVBLOC\n",
       "KijbmXBFmlD9hGZguSlz29+zxAsJ26epqrQwuB3+g5L045kt3Rdzyw95N+LuioRweUp6VJP9nOzF\n",
       "M8KFXQ0FNLaNWnWBV8AURsguE4XYwkV+esa4Mx/R5sx52GciglvJsi0eVQ20zSBbFmid3dG2mQ2H\n",
       "8G5z2rIgvb4F9K0UxRiPSQdU09PM9CS+xQk8jt7WSdD75Kqx5/Yp9gfjofB9o1hJRemIAsmN7NsN\n",
       "tUsHuzY+CUUfzpcjsGI+1hl8K+AvIHDQ/iKAobaYhdRAVABZ1kenmW+dj/sBcrFYA5YBG/3kGbml\n",
       "MfR7IprWIJy3PelSZkXnqdwAttAwDUWGyvxngJt9FlVijgtHslX15g9ROH3f6hJk/sur/5vv8LHb\n",
       "DlqHQbgVNEuTdVn7Hkp6PmCOV3ke2DhC4+1WIILIz7LwHQhGOIYAyeKeG7l+HytmJzcMABv3//xm\n",
       "eYScshrv4d+R5afmkC0cfu5LlmEtHKjfJLyhG0POk8EXmaTwwc4km+P4FrJdCSsPnmBRkE7/2V9c\n",
       "eQLCqNW+HvUWFH7n1wnSo4uJmNTr9npiSP78NlVwFxl9JWgNt4MYg6fL0AzcEo5PfkTup+9SbsEt\n",
       "Dn8VSS5X/adxsTCTY3rjtkdvIP8yF53h0gWHjiQ8LeMugDBU+qQp7/4+njDrA0lkDFI/NwPlRMCa\n",
       "QQFXLlcwJI21/dcS3EyJiIetpeVwAQBE1zqgEruuySJaF0w6tNxmZ6k9Z0ac7neI2CNjsVtEhpy1\n",
       "q5qjcGRNkoKc2xs6nfyFlMii5zR9pHQ2xCvdUbX3zR9pEbpdxhJpGHiWW+Z4om/87l2NWehtr/ao\n",
       "m+2BwBHwQMDNJj3WF9LTmNKamTaDfRiaKEOVhOPwZ1JZyEObiIcWy4HUJ70dvSBXLCcxJILXCtOl\n",
       "1mRG5AX5UQNhakhWP7JCCblUDbtm5eU7BRcQ8CFjYFsuhMfhuXmxnnmpARG3Bamu+cgpROJvpp3f\n",
       "WyA384tQVWIWY9+B81KCFtx0NhA0n+C/j0KfVOCqS5NXTYPOGBizLiysagkJ6jnMC1c/7EKpwcme\n",
       "Bo5+SxXDYRbAiJrUvr613T4mhJRIrxzOXnFyEgFYp3z2KymZGyMKqYjlTtW4vwK5ocQNabL8zrRi\n",
       "MwQYiyzEdSj+bbl5NXA6yD2Z2roHFs8/QQ3BflRXeyckYmWa5wyjD4aCNDvfo69pBl+9yIjyfz14\n",
       "RHzl82bnrhbiE4FrJEWK2YDVMAZKTfMVtwE3edy46aCzCOul0q7xf5ht1Kcdz2f7T7R7tyJf7fmI\n",
       "HUKYAIKminmLCBZMpaEds3x4+wRvBu8fvlgZD8g3uMuTOIf/geakpCwV3xObgUCvX+CDqfuhqTPF\n",
       "RYhZEAQVydBwZ8HdGXjHYX21p8JTHr4H02pPSzV9fSqQuM4mn6OHXQ8+X9vyYT0up2d+8hHQx4j0\n",
       "IGl8wlegWp6dCjMDa8VJkOHIEvvHD23Wb+eHetwHloCYHMaj9fd+th4ZABem+rPwDMIoiD7mqtYf\n",
       "r3RPnhB8/3//gAEBX/nD3wbE68256qhUrW8iH9e3WwbI1Afbr4CEGYuAvNCk+Db7Muchp3KmsHkB\n",
       "5njWboe6r0va/t9TAJ11aG8TBCCVCHavwZxSd3U/RwwdbiUGlT/hbKFr2pbpC/0yJM8PDdVddKUy\n",
       "LqxkWYCramTGC/5C2VL/Zv7vNiGWEcyb2NO/uLHQhJX09y9HktujKUy6mcLo4mqwz7yRWz/NUUd6\n",
       "QYJ3WZGm3roCnpJkvIwniFutwvzioQKlRvH717L3PxkjqRY5Xt1dKx9hJQVf2cAcsYglNXHCYcfA\n",
       "XdB8t+iUUaVlWU1IhKcy4tjgP0SPP2fbFHH/4OXTEVInjk4glJsdPYR6t048p83WEfrytbmcNYWL\n",
       "ZVI7WLtF+0PlN1U9fKSiPmXK3IrY4c5EBLZznQoAtwClNwsRhxmgt8Mi2v1lxSes6Vu+tsQ9Mmm4\n",
       "L/Xb7mDs1+8T2AjK5zGJmrsXUPY0MnI7eOd9HTV6eDswdr8xL98Ka8nrzH+z0SsGiSDlwdBYhrJ9\n",
       "ygFDcZUFCrrkYPGdczKBcA/pkUNitgEPeuuYwsLSEtnv2rMPykmcwouym2mLn8jokthwgGPU2mX7\n",
       "fXfP/OgCWOLm7eslb6dmE3c3llWUoS910aHg6xMZTRQXCJQpvI0HuG9nYSrZUoNHeWP6bZ1lu0+M\n",
       "YuLb1IMbA2xpi54xIYc+53cb/zP76EJNMpygFkCR4PVy/xZTINfkGSV0oghCKns2s4GbwQBVs81W\n",
       "pZ4jYGKl18DYyNhwiGT58zBtTW5tLF9ngO1PNANVDMSdj9MNlkyrt5ICho/uHQQN2bG/7Ei/cfyZ\n",
       "x680AZz9Z7UAIhzpWHUsV/3x4fJhtMTNID44I0AJKfkrDNqpH1vSy4zeJM2+JGYDtpTXGAAY0Sln\n",
       "TNVLXjQdjvvAKeKsaGDftLiLq3kTUtmdDTbZ+oBtg5c5fdMDSv8zwD2EpjfsAlBVoANespBki9X7\n",
       "5XbGNH6VvaY9QKoJMzsTD6tyeEuCR/D+kjNFPuWNOsUvwoDp2eO9Uw9JwCiAFEIIE1B8Y7c/L+iQ\n",
       "JNJUlmSjMphWb+UTAhMEq/epgyKhXuN6GfCq5Rs7E+ouZR7DxhL6mhAp8MSu0F8JIODO8hJrMCNP\n",
       "5tZluV0kKliQAOUhlVNuwFVZulTneuhGmkgwUAnND1okT1MKnmOOTJE5O9meZgjyHSqvUZB++rlj\n",
       "VjVrL6sccqdXHvS/zyww2aQwGxzFFfsOoHrQmwFrBnWZ9tt6/PGzzkWhST8MrjnY4HtGaQ+5n7cw\n",
       "B3VJHmjym61AgccZ8eCE59csRGTY6JKaV+TDCh543zhAN3wRz0ryKhhykHEgyXtBxM/chAZqord1\n",
       "mfbSk790hD3GKiLgsCy7upv7Qrak8BzuPAYbfFfyUkcS1uoHWVDVP6M8Kd/1YRD1Mi+Hd3xR5/FC\n",
       "Lcv1VHDkAepFIklB6mKIjznnMhPsyEpFCX4cujVCB4+X6BizBF2IV8oEBIx8ZkPdhzh1tL/kOIsH\n",
       "67m1+9iW4iHg1i+1p/JHdpuV8B8ZiyYlO0XcQiflR+7eGbCw55OoriFpnf6io05XZL6bMnOnZSHx\n",
       "eN4a1w/Q7Wr8S2wfF8jTEy2D789OP10NOIKsQmHEwCTwsuDb9JG1ky/bb/XI9EG8H1pYHGteUjCh\n",
       "oQMs5DtHBnoK/b2nE/YRoWmMFfFpdMfU+OS+BNToIWETlTWkD15U8ZvAfvU+4H2NvGHHSxxfT5gR\n",
       "dABRFUnWSiF7IzU6lCCnRAGXE6hbrlHW5tJ02kLbpwOXyItvqlSts5lecJ1ksbA5za1zd6SE6p+p\n",
       "bMrTZ5RAQOAO/y0Abfp+DUm/x3TS5gDDCfYBAJDSpQPViqi6oGvT9jUN4FfQPM0CwDBzWtRxZ8O0\n",
       "CiUEtujgo6RpRKXwxrBivd1kDWTgLOj5j3NyK6yOekPk4bJkgeQEQ1iinLKpPemxKeX+jcXe1nN/\n",
       "94UbhIXoKeUm2+gA1Kqt8GSkW3taDyp1lLIUTH+yt1tdgWp2YgVnr3TQqdk3Ofu0xfQzzS9FL5td\n",
       "51Wq0ztKRs4OTQriYbfzdJDEFzPEeOToiPq9uTmNs5nm7CFxoK8GpHSHdWJXOqP6F3+14ZS9KMYm\n",
       "YcbXGq4ao1x548pNrdJIJyvPsXBd4vkSbjoYSN0tfa898SXC3U2szdFSiG2Y2Z7XkvxAeXqf/TDm\n",
       "cuqkYjqXS41x4seTjaTRZp4TUTCZwP/dU2G12chY+rFr+IOae/ppMQcf76dx31VLH70DGfL4nPR5\n",
       "3f3qQKxqfXCgDfkjPNTe7a/wMCYZsr+AZjRkn/AZQ/pRIaA6abZYqPHo9UXzgdn2PfTHo927BwHJ\n",
       "ketjqn3OvoeFlbl5QWNB1SQX5xlG7Qk6fmeLvsglgq6IjDCClQh3YlVzLFM+/lqs8Gu7O54mKZ6W\n",
       "SmPrB+q5uN7uDm8XiUt3io89RgjxW3bMINwSnqs2IxdYcuxyRRZPQTQnCTmEClHu2cu3q3JveLgN\n",
       "utWv9qZ3jY+DItQ023cLlN7jeRZ5f2V8wBqYX3Nzb3cfEtKp1kcn7ZJ1zQfIrkD4XH4ZT4QtcqY7\n",
       "Ru54+NDQSv+RVqpuKJtym8J1netMJ9yRAS7ngc83GRlMBcpqcMThngfoe9l6KkDKPyrMTbV1eI+0\n",
       "uZXtOckQ3VPGXiWhAdVNme03KFvGoHYXdQMvhcgc6LKqJQGsZfNsqiYY9GZhwDjKAoymafapxXVo\n",
       "Wc9ldZwaZYhxmthmAZV6WV135khFr7XsfUYnVcA054cr+UyQxpNs7WpZHpH3eM7f6tSPGg6jfnA+\n",
       "0KlQNavDhqrZmd0x9GPtCIwU1zZ87Z4Asbkjn6M4B3c1cPAAIT0lpR3vOpd27bd9FYy0laDzEGCh\n",
       "IS1bqTkC36E0SjkVVkUzTrcnZpSn+rk0KrUAABd0NqBz8JJwl7/8m6WGXHJvqp+AVJVj5HK7EnXc\n",
       "4fKq6bomwgw7U8NBlcj3HdhEDJ8oEgN/0vmnchh1qeGgALwLyVwTcEP+wZ/9lfJdShFipns5nlVw\n",
       "byND8fY7zWXaX56aUglyttuCjL8ObEYMagMkquvkmlDKvxiTSbDuf1+ihQj4tbVvFqWqRmbOAJOG\n",
       "+oFCqSSSLNLFT81ItW0s1IBxWR/D1PhMZJNIZ9Etj/7xyAFMU+loD+IKVEqYehyu/zYCO9ZEsmy+\n",
       "WpyqmAcFcIsMShWzGkYZQ4sIsXyNluZOeubz3R5PVJZ5dH0DF7qK/dcFbY0qOtPaYYOi1ued3WkD\n",
       "1qMeXgiRpR/74AToKXMdUjNUdY0kOsEn/4XcAHtQPABRSEloVPFQL69Y92B6pjh9LfFl19CXXbCc\n",
       "oZN2Ko3Sg1uQMlXevGdpHx1Ot/kZkMb6t8iKkrnOFacI2s4OnMU5HI6wJUQ8aRULoXu6xpKChYpC\n",
       "YF9zy8Z7MbiuaXalqek/Pe7S+mh3B4wMY2BrMT7fMfW3bfwqWSz9pCzObhXkHat8/8nGKI6WJjHq\n",
       "pEPD/YFa1XPRIF+QOBNSft7D9WITdk/U/4kxaloUC/uf5HhVg5l3Fn1RmdtoScZnxAEOIa4HfPcN\n",
       "Fw2l0OUu21n3fQNJO8it1P65US0lMYxdFxCsctNgKqT41TJkCzPFRccQbBCEdMMA6VI7lYwBos/S\n",
       "PKznOz6fv6bYnUCbF3ahpuO0SrBHR992/4qOHaKmQ2KfKPXUfU4JnJFKzyCNw8QXsGX8AADrn+rI\n",
       "2Ei+ASH6oAq+eWYOoR16jIIEYJbC4gzE/2jFQfCtIq99xJCSpv6IpUzIuAggm9kUhH17rdjPughg\n",
       "rG0/ejhsBRcbW3sSVBvb4zEpENFTl1Bd6oIlkmboM+kRL24VYWhqxdSmpCk9lc6sf6TvvQT3xjiU\n",
       "Oa7YvDVmRHhrcawWAMoe/PYU3E8MYxRCLH4WnZN5rwvScN2dy1eKYgVIGyao8raUKfZQPzfDL9Ja\n",
       "LHU5ZinBa9s2tqiYmesP9Nka4qgcYv+qbv0CdzgUasM3sDQ6pE1vzJBLWZfBsf8VIYXlDyx0seyB\n",
       "hWfSyY/WGEbaIwgCNhX13yJUGufylpjhaAvDrzv5/7jKmdcGlSSm4QTCsSwKcn1X+6mm6Hdhk7fW\n",
       "9V+s5Ey7PY+tq8QVT8PebNfekeVzd0WEvbah8c4vx6XBsARYIG/HZc4hM6R+W0LSn4cRikdc7BH5\n",
       "JU+Qw70pf9LWXt/kuqpq0CTNYOoZwRufhKTuWP2+D8+BtyxygMwplqwB340nQJSfa5zDRypCrgYM\n",
       "Xq+zsD6feqSzx4x8M4lEqUwbt7GR45uxLMV2yVqCQQq7vA3GHwChLquXL7mhQqSn07dAMtQnP+d+\n",
       "LbgijAT6EjmnyVcWQP9B8tW6Um2CzZDMxTunDM7eoUymh1IdbY4tzdu9LyfBpEc9zDlpItuzOEjd\n",
       "1AbnGU8Uk/bSC81cBh2Wg0Ib7Um+8JkuX/iIV0QX2Yfl7CkfgQM8WvZx+jkDtVhVn7FMlrRPJo56\n",
       "YYT5MMSzp8qWn0P9DbcEKeRg+ff9Jdgm4EjZ6n2a9aIXQNpP5yeEJ6jddeYLA1phveYpCLsPavyR\n",
       "74a6U05I9Lf6CPDhAT3dx5xPOIfolpbm7FA87TC5m7k+0ctWyl875N/DysxvHGxiYt1FyIay9nQT\n",
       "jU6uRHLYsvuQDfHb+EzKgS+Vy5vdUVO6cS8OaAamoPB1DP0jAIDy0jh4FpLUlThCffzQx5mcejFj\n",
       "6C3urf5PWH8df/3bMOw+OOfTGzr75BLeDKIfiS8d0gFKm9671ROwshsDDJw+lha2Ynb2kLKqnxm1\n",
       "RQW545maXITP1aNTmONeelKW7ACKjBFJCAKA0X2Qy09vwCYNLkFTXTZDiD0onkDFHblFcXsvt4z/\n",
       "taAT6rhXtYa+wG+3TvEdmJSytgvXJQDr42+C5HJMUV7heXuwxMlqZvtTQAWr9Kp8Ert8q2j1GcfT\n",
       "usApEIpKcCv0He0R/f45LNKu/o0dJjq5pjB1BAJsFqpO99LAf9gLqi0c/KdegdsOZztViuyJhDCf\n",
       "J3851Esc/vYw3+Qzxf4ZGXYelfcQNHjEAEHSOT5o3BkdGHV5A/IAfhamKQFttlqg68mKIjUcWOxp\n",
       "8PxWwdWw4Ocd7KtlSN8iXmwn/tIdA0TkIh+5q/1dkdRe1pd/QyM3nXfzEuEA57a4fVCSy5rxmaDN\n",
       "000mm5RaVWKDQMAWW627qlbs6shGecwWihhoMDxz7EUQG4Xf9lEnYUf6jJ/sgiO+hc676ulIvCuh\n",
       "Cko2kEdNYEmjgNCkXF0RM9VgGwW/aqVaNXnL91L+T3Srmynf404pgmtjC8vjhm6kgTX8ZhnCTXsU\n",
       "ip9YzLi5QXbgGGbx48lAtuIqHyT9wL9wJOgne02QKJZRnzvEwxOZAAPHj++uYaga9vGhd8xGUhff\n",
       "M56/B3ZUIJcLcv8RxykbDnj1I2a9g++8qxFnpdJqM34QIsAoJXOPqvpHFmx5vGudC1Vz7TOmMb/O\n",
       "TRDubIH9Cv4OOxEoSA9zQ9N5BYPN32Qfzq7rhpgtI4nEXol7fdOzipPXPC878P5YAQwylnMNMGyt\n",
       "E24n6/gAlPEf870vUwDz5g/advkagSEcgHzwaL5O9gtzyvR6eoMtqRVv8D53rHMXtaNiIIyc5Ynf\n",
       "xULykKoxZblPdSmO2NerUlpfY9SaVfbwvs0YA8Ziuk5fqS+JijuLa4j3uRKVRdK9HzUWoLGYulGu\n",
       "rdfCbUW82pLqH3VrTfYc84f6FxS7C85TmihROIhN+UV/EsABuC/tj6aKym3xoeNHIjFkjyovLeUe\n",
       "vsXd48VXvLLiCtJ6L++0FI+7PLGtXgMvMcxpXQt27ruap/w5qiKGoi1P6bW1PkaFH8Kblo45gnkz\n",
       "zoofh91/qDy5jzaIEkBQEbwj1WApAPZNz75xbtFkEsl2oMQsZnaj9+BzM6AFZQbbx1+6IIe7UXKl\n",
       "x6UlvuNqNEkdZENaGvCt/UiiWXmUtlGcSE9EG5vhXy93HWYr+QJct51gZ1eoRW0T+OWRzI4yxMYo\n",
       "chLO8bQgF0KBWGr00BCtAC++FJOV9pBivi7BH7m5HwX4AK7y9yJwazgeS7ofSQggUK/rW9aw/PFa\n",
       "gA9cYJWGc6270KT8olV8SWbTpEst/6pC66aPXjZdwP9CmYb7ZijFgoMAvAzxLFsN0T20WRrSG67d\n",
       "wwNh1qiz7YaF4WrIi8n/6zwxXHq5nixFaBpzupg6mjkdrKapLOiS1iL+bIe8ODURL1M1bmJQ880x\n",
       "bYu9s/iX92qi4yyilmMnt9S5Sm5eFNUCXmuj/XNg41Uh/gb22V7g+CY59M89dP8QSrqsEQMpD3iP\n",
       "5axn3naXW1z2q9gKNQsce8jF/S/fpXYzv6UzLbya7dfBBEF1oVTjGCahBQoUOG2aVe4N4KlUh/O1\n",
       "ZU+u99FKr3oX3LrTFxpyBhKvTjUTdzoUgiZQ3sJ7a0zexT/LGBMXUHJoA2VAPDTcv4Z9TZFIIMrv\n",
       "M3NlCEHodKV7+hozX/6dDAgONN2/9+/4A5mV7Cg6U5EthNWLjiArmFXYyVmPUv+3c7lhP+jMF44j\n",
       "XEqc2tOR5o/Ys/HsIyTD6hCn8+mtXX6X7U8bs985oljI8unxQo5sc5OXikNu7g6ZAoM/6ZBvBllu\n",
       "QvzQ1HPu+Fnh/6kfwdRI7ip8EomtX2S3+D9ru6tWItietDG2Z9CKtWp2pFc1D1xi6hVDbyhGgLA2\n",
       "aXBnI2dcIWGbHPPI+ZSbChbOr6ef+DLds5RQIdEqxYsHdNoCgkwes0L3+1mklMrFYtWo5LxG0Qta\n",
       "p//GEwrP1jHqo/OViWD0n8GarK9zDEx5rhMR9X+tXOsobvOOgzd9PFawMzeAwQ2BmVCMoe9eJ3+Y\n",
       "Wq9yWb8thBTPJykFHX7fjHEu62DUtSij7fgQCYwaVfe28nDlGju+oE4XAAADAISBAAAFVUGaIWxB\n",
       "H/61KoAFKLuiYAFN8iaUm7WnP72y7JOeHSki9nYS+2zXlO01WgQoQ2BoXkmYah5up4+TvoThwvQR\n",
       "5WZfaGvR1Q9fw+hpCse8USOLoUpcgDXvmxNaodlMBOSeDPv1EdE2FhlgUJh3U9HYdCCJkEtzicGq\n",
       "30myQuh8gsoRCbI7PLeR4kUndPCufLSYGeNXKxWxyPLXx0DUKoHHU76gpnRXk4bugDyVZvqhbbuB\n",
       "WClMdk+5J4aOm8R1Kw6QqIvJ3rRamy7VrtlduY2wborqxYWp0doFO1qCBPQ2fl43vfcZxR/PNuT+\n",
       "iznzgrlNRPeBIFJBqVNMQ/PPe/MtUiEKGs/RrIEy8ukstyCn91kBX/sb+OPcBtQmfWLp5ltBpFBw\n",
       "mBXLnA8NMxei5EM3AUB5ICR8s4M0bvIkWClm7zHsxQgjusaHTAAouRlMaesBcByB+pQ4ZaCXygqT\n",
       "/cq4bAYIYxWx4zA0W4ZqLyibadQTYq1s5Zp/eaumUZk0PQVzH6ddA368Y7dHMPH2/wSvIrzdjYVh\n",
       "t0pISACSIJ/ZvhSRhj6w0IfpfsitK1tu0jbxR7nkpJ9E0NEcFTI5v8KYUObSRJ2RAAOtKYP0rkgd\n",
       "POaRAXxN9GpAqB8qOPcRwH4510usJ+WTj/FbaC6O9RGVaV9zyX2ROyV5D4DAcNjipqXUulRL3Ci6\n",
       "pR6qlUU5ey4+59z7/cobEHneqdJkwWDSFZ93eNhFA7PGXyP6Y1BTF5uceu9xOYmiNJaST3GAgO64\n",
       "zwXxrbbH3YU6jysoD5e0Jl+pQsWPofchz7Bb0hWDDXbl1Nhg9cKktait9yDRGU1okpDj5rf/tORD\n",
       "/nsrkcXmMV46evjkvujS7L+Uf1GMJkLa7cLcxpVK5hBnay6ekeBPmsAnbLe6FAXALaQ2HxPUEO7Y\n",
       "U2fbOsZf3/JTiXc6YY6FeLRY0CJwQGX6L7RHpc1JpxtRue85KqOHdNGBpwOZ2r6dYYoAhLD5zbEx\n",
       "4vNkuC132GIBul4Hu2JGJOO/qd4zXvLO6bOCvGyzB8XmlOlbapA0LPJYkUzqWh6U9r7mhBjiNKNH\n",
       "hj9LtltvZfmQvkjObRCabqwRTnvlRvro9vs03kXp265bskTRSlQgsZmJkZ1NqCXAKgCSTKoJU9p4\n",
       "U37vsKEFdccf9qmlwyxywrBUwoX+3O8D8PsZaaEewmbSfzVI+JEwnvaSfojhdki9IoihIrca0Au+\n",
       "eJkgMGFlaIZ4AFa8RcKhyD5eEcKPqHdSB5IeWTLVQYywQotWofC9PP/+h1caFgS9YO2Gv7CwWdL4\n",
       "sOK7EyqwkP6/yRxGbBTJATgYQmYPYhF9lThOb+1pemhQrzMFUUBg0wyIUIJ0AkF56b37yxngswOc\n",
       "FgO4skv+MqyUACPuy5N/ypP/Fnhw6Mx3kIE5SQh1EYPsN4IvVa53LFId2+TA9j4ROuqtjGEMdKqL\n",
       "0O4c0CsGsM+sRVEJgLaBnNN1Ugftzbf06T/Cw7Xew17IwGlc6MWq80ZAzBKTP0tXUlKuGQ6bcoH2\n",
       "4pl4aZmZ2XvS25W8BzplGPcqUVWJfA6vw1RCREi8BgSmZVB2W/8wXyswnRPcX8v+xWRis1duIeSU\n",
       "kHmGpbe9Xeg4eRLUVl4iOknYxPfjhHCDn8dbrE3xyrpYcWyWGjJL30P0e9/0t1ItaattCTbtIrWS\n",
       "g0UPw+BjoNeuUWFjTxTrx4IMwuyjZXvpy9V8uDpdVkjWD5n2CyNSG/nsYn/wABwRBPSK20Bi2Wot\n",
       "W7nlAvuPwSJHtcdWidrsLGBXRxsRqTLf6QEpv6BDTXTuiOu8Nd8PCkNBqp/o54ldoAAABhVBmkU8\n",
       "IZMphBD//qpVAAUC/qszlQOgAjFHX2/kdPdIBZq6BsGXAqSJuiBLf7diPsN2a5Y3WRc3q4uDZrLq\n",
       "QBLYzjs0V5s24oKujoUr9PpI50TMm8UG+x2AbcQ8RHj09W2n594a1wIc7P1IgK5Dl1K194A7gcoE\n",
       "tERX1AxIj6FKTowZm9DVwEHUq0hts7Jamo92piOuw/m85uHbEUC/4J3/wRrDb2KbjOLMeC1MLKMr\n",
       "UzvgC7jRu2rb4UTGHBI+9PYXD3V+MhkKokBeXV7aiRgQtVolAVgLR2jeP08FSObv3rKXpLEDOGc4\n",
       "wCB8magPMsXj5an6BSlqK7hVMLVeY/dBAAeSy3dVmAOxzYIZRHy5vstB3wlNg4vnCQhtXsLy1oot\n",
       "ItqET4J6hPfEDj2dGXqDtLVx3IfFhEJn3iKqEbFtX0mV9VInw1oLJY167ohFhCHv3be/3a3T4D4r\n",
       "gpyJEJ7KyXgihM40j+DnFzyBl0Xy2ijebBHidn3T96Onh9XMORR4aRoHT+J16QnfpFF/i/w8V1ay\n",
       "EHEMMnl2RMf2NvnXJhckj+6Lfa2is3Ut27ZrTucNQpG8d6E2MhlM0GayKFM67qEKxBzqcOlIOmts\n",
       "X1PQE7AxrN3vyIbEqUqNGObmn2LR5wpOSZGFYJ5ksFuGN8H8a9Pk2zUWqoX9wWxvNyT+n0TFLH+f\n",
       "Ee6bS6M6sqyZFD1dB7wI3mPBscdY5b5R3iHylsbSHoZlu6HdlhLIjS8TIacE24A6lj4uXwiYO18K\n",
       "aGUw/rlLqQh9XRU0aPOQzta7NvQnsjloZZsl7FEeKh8JK2Xx14mD5l1l5AoBWoFvgb6QGXAtWNSp\n",
       "VEYRo/4McnUv5UjcFFUbgjLD3GiFGltyrhIgqXIN6sAIokbKd2FZ9jcU0zAvnnbANl27YxTpbkfq\n",
       "lK9UsAXZ2cgbMFS7795/nBU9N5lhX3+M0frRHG93z+LUEklGdQoQZqjtt8LxfuvTuIYX5riKsKoV\n",
       "YrZR82Tf70jTGhywDUibrBJpaxCiYRFzXAcDuhYI1OoGd6CnW4PFdGyEPt/1M5N8ujNzOuh0hbJY\n",
       "O874C0viHDp7Lzfx/ALsS1JoeHbeHziPy3TphUjwmVy8R7wRT3tiEGAEGX9vOuG5+iWeSZ5B6kGY\n",
       "HostRbOt2dnZxI309A0tMorPuWrTSCEx9cLt83L4s5goUrs6XsxyWyet9FZNuG2Q4AzTkyntz3ak\n",
       "6EVXl4VPbHYTbhGrVxcrYS/e9bEq17GoG6H+yKOf47vBK/Ggf3vBni10wRYdUo4ppUsN5MD2gCqw\n",
       "S9he3CMNnlLNbHvZIdNeD5kvc+KHL+FYehwmcqPZwDdmtxzoBCtZutf4mAuVHLrs1tenbgZzPrmY\n",
       "mkkAhYbxGVTQ1FMI5uqWmtIjiO6zi9wgkC1rHwb0uXbR01aWU1pD5XuW4uGfBldPhKUDGtd4N7K1\n",
       "kf5ND+deiZH4clOxQ9SzB8xmcfy/9Mxx5lWkMha6tXCurxIKD9u3ZofOJHAL3UwBPmc58vKAoDX6\n",
       "5aUJrKIJ5PRyvD/waiuCIRUsUnmnSZcDy4+GwytFhJ5NIh3bBX4KrjgaGWzoD1IFUjXwf9o3X4qX\n",
       "OH3vM/bAlLEYf6WH8ndqSJUZgjzmwvPzxbwS0evm5fpQYpl++DZ/+V3w3+akKdnDj/UU/hWnbnD/\n",
       "un2YueKaqptuj9ZOV3yiHX1xB1Es8pZ3xUgIA2vmdNn8dTrYLMbFfdocLDDjS9jI1glaqXlsbCj+\n",
       "Tb9jVMGpbexrgPhn+mUInhv+Nle8ahMLItf84Z8gVMXAMxkeoUam/f99mpqCJUCGN9flUCpbWSyv\n",
       "WHqOR3vJkTp+XmRVdLrGQOCKqCFDrhk1UYEJKqAdEcvd09qS13JkWADQuvekYlu0dmB4a2e6TV+J\n",
       "0mwkK74s0ckxvsbwfmLMLQJwMxrrbUQYtoGtNygNs3Lt867oHeNfb1Ev2anOl51OY/lujNmrU/hN\n",
       "KfmlBUOguMvKFKPaJ+5S0RRGyPq4eyRQxIiCLf6mPHHOzIu7IGmTiC5okZ/CZYxi3yPgsAAuA/C4\n",
       "fKyBBaIgFNcgNhZwDZkAAAQ/QZ5jalPDvwAJxH9efLEYANqudkGScaVv0lW5KBQXay2QlxnYC2VA\n",
       "Oxrazu/Ga5DwBS2YI2d8uPCixlY5t1Fgf0xDEVTr/+gtPL4bP/O79zPcp73yG6dF/0J7qd75PkTi\n",
       "zRkB6cB2Y6j/gfkJ583uEzzgEsbDrVX8j79vG7idnDDnzS615dF8H5KNjjfRie9pg6ori/V4Ja/U\n",
       "gu7FXnTg0MSLBoibZsqyRKjD6cK1hQt361sHNKJr6JHQjDqrdESq50JX59B9PUuBs5MLx7y72rwr\n",
       "nsBTxQpHoXK5o2PM6RFTcJCRm5uVB2u9uCTWBc9Fk3uCZYLIKlvRdSoD51akQk03CYnKUu3NPG++\n",
       "GaU1kuIKlGgV1qB5xuUBBhmfp9DMRwRld+XI9EIyjHIj876SAb55Ez3NIG/ezclTHxCu0Es8O+py\n",
       "+796EMWHoiS6FLn1QrHn46i5nC3zHKP9ie54eO/2DkNJt9Na+aEu/PIrDh+RgUQo8h2F3qneD1+r\n",
       "vixaTf1vZgG6+qoj7ELOlbSbMvm6ndpUK5o8WVpm4Ghzp6dulbC9F/rvW7p9NDk5743t7e5k8Duo\n",
       "vlVgsmlhvIHGL0ZwhA2+2bhTmTdbeVYhogsQj6ohECNbqAgpJJBFgroJaGvXnNjUxBnLeYaJs+4a\n",
       "Sd0YsdDyPaLCT0/+BNYaFJOlpFBxlc+93RJhO6SJOIxIEVwxNs3J0G7y7PuHR/oXKHlphRlRtheu\n",
       "w6USixuM1v+WkugQ4zQEvAWqGeNv1avlgmBov5JuiNrW2wzd0tRpwQTAzcAED370zHDWRvKuuUvV\n",
       "7wb1oi9ktFwZHAgWYz0pbEQ8RoeAuna7DeFS+ayzOSxvM8RWQPg/pG/90K6kVHafDpaXK+2sQAQ1\n",
       "Tv4YGcmzdyUjE4lDQFkZ1KO/XqSNl1OvFBnr09a9qDoH2ew0FeedU67sgc8v2/x1glM5lRhv32NN\n",
       "U8wJaF+t7Pxi8jGBdss9d/xcSGmxzURxSJMFNQIkt0tOGFvV7u4O+/o1k4BTRMBiIDxG9MQM3y8/\n",
       "vfuewgra1wb+xB88BNDwOG5leyWeGqDfYzqtorl7jrClAbCybAZ6j2KO0AlX3tenjYK7mazm6Kph\n",
       "muS4OPeDrjva4Yg18jgY6Ube0VfID12OjH5Q0BrwJRoEcMeu1XZBFP46KPfATiGDJoKvl7bVQBe6\n",
       "c5jGXlHHs+r3F73Y7ekJsAKAKdcpUnjOck0NL8u14W1T8Z7Ubvv1n+QtM3OPFasBa/b2OLmv4hsD\n",
       "NhxBBQwfyB9zJZw15GSu+Xav3ikL5p0nTma7RfnLHAOkQ+g2tI+06kZYJcsTBiR0X/917pnusFGV\n",
       "ndqXTB4tMz4V4Z+R136AJWTJzmG3i1LQbnC0OkKlJJjEMZwSO3UqwgMcH3UtWio4aLnpY5Gr2xbJ\n",
       "L9uwwh7zEplqgY9R++9rRQh5UAAZ8AAABIYBnoJ0Q38ADTIVevlynnsihgA2lAZyltzZ0HEYbe+V\n",
       "/KTbGKYzh/6CjQwu0JYML59zakb/+iQvUkvB8Ri7ZS0le027XLEm1uYVE/DsOkRyk8zk0PqeR7/5\n",
       "6WMKpWRUX8iOdD5T80hhF2bbvg/zgzyyd+MWvRmvFefeNMXS/zYMXR6SH398P/PW7S4W3NgK3jop\n",
       "mNg9Vm4CagePXHc1HCp8XbnUqE/0IexoexCAVw81oK4VNiLt5/Id4ykZIIng1AgIUrOqZNG49Rw8\n",
       "QCwTS5suiwlo4NK9HxI+pLmGBi2Rih/y0FhcLLCOI+Qi3zuiYFL7wk3JLtJbAFMtGA1MwG32/Yqp\n",
       "cZKEOxElaN/JBT5f06ikKISrPs82CrjPDtlVCG3Jn5RRAihPWLU928/OPlrxI9MtSxZJQJmcLUtA\n",
       "cXoi+uhbBs4HPy1PJNmc7m8jy8Z4KUciEMS+tLxT1aVsnSzEsve0js4+T4+a0Y+lutG90+rqO05T\n",
       "ynMdwVP1TPULt2POVh4Clzl3h8pA5S5gOJqjFPJp4+7C/5fNY8iTseDvy/wn5727icOOUglidP/q\n",
       "fUiFTCp0hB8BLn3wibuaKoLOMqWYHLH7TXx4DWb7zQkBo+6yQD0w2V5FJKOLblrYnTdslGI0DoSV\n",
       "9db1A+MwCotA2zqfPCaQS0L7apu7IzScdnrNlyH5xqXOTyPjMTO09RiKPM8KX++dR94xVwhSxGTx\n",
       "zdYGrAeEvqaOTWOaEq2rq1XYAl20m5tphmQhd1uLaLtoJQ+jRPEHUVMj50zjrOSFsfINLTGwpTR5\n",
       "y4zqIT+U0zel4dQsmWkrTEvsbxMuEwPo+lt01QIRO4KUrqsWQfqyYCRcqcBlPQBo4C5OFIVZzVGF\n",
       "9z+O05dTj/UrV7nOeJo0VqLlzuEYf+A3+eEg7k6rBZ+JCn3R2wmU97PMSyO+7lochUZcDC+RqBhd\n",
       "+l9dp6wXZMMAcWgWQ2AmVTYQbMtNWD90IhnDiMlJARPjyPJVBukAtq3ftypP9IsxoAnmB2m0WNOu\n",
       "4tXRWen/SmXzkiKPQf6bD1pyLTWI0rAYiC8TPOSYfQaNH1WK1VHMHRofunE/l3aUNahY9ggNJlB0\n",
       "52ZujwkmSgmE23o3MXTixEOU8s4LgThYNQnibmN9EHErD8EhSbL381UFqVN9yuXEhR1romEf+h8e\n",
       "rxSmfquT1ktLSpixsTt6j2urak+pIx8VIV68ebOSOp46pG1iPXGinAM1oTGmGOFeOuHZwBScS0JW\n",
       "XFR5nSPZs+C+ZgGYMcxd797G1htMX2k9WjgEppbF0qxugZl2pSmuvhCjjvKvWx5fhYGMT8nmktvA\n",
       "MCFjVn21T6ZKQCH2RsitgtxfKZj6tgKJCGhFdtx6sGQyyoescyf0evAKGHcQTBzXmRP4oitny2Ui\n",
       "l+IHFTAnqEYaiCe2LatjZZq0elfB/b+qo76OUQMVxutAQz+Vvmbt7kkDkMKNb70ybPTnpZPFaUSg\n",
       "d0/y2F7hcWaf8mFLN6s97wr6xaZINcxnxiYjitriW7TDCFyBpe6W5I4AB/kAAAKOAZ6EakN/AA3R\n",
       "bowEOxIANXHuHw/QX2PgoR0dcalGOWH7RrlJ12do9dfp+aTN98M12tU5PP9gyX/Xz/rRcFfTXXs0\n",
       "L43gPMdgRYUSoVfNvSTg5HXpepzk1xcL5TrNurFIx06PoQw+CKYX7r9e9BZ/PQQnh5y1i9W59z9S\n",
       "Q5B4Hsv4VGh4caOA1fZVCOoNJNEfbjY6YKMLHkuMjap2/60PWyWXI/GhDTAbSDMcwiTI7YJKr0Pn\n",
       "Sw8r37Gpn+eOIou8CUYgmpHBhaC6jFWxHGnpm2aYwyRr+uMGBcHOwlJrIlF7rqaXfmNtsPrC0Yn4\n",
       "DmpEHXAjLneNQuRHUUhK3owj1vwrnnh6VgtTKMbkofF9y9yEjs8JJg6aNEH0BEh2Gbeevzl+eFfB\n",
       "OOwZF3XhQgoFeDNc1wPrfKEf922PWVK7G7MN08S9lCZyTAXjTbAv8hdh4M+RfqWJvI5kMkTMy0/A\n",
       "GquAifU6Wi/JeqUeTdhVMjKQHQbHUp2omvZ1dcpw/t68fJXzoL0zlZ7lEalyruCPu2A1iRNJuj2f\n",
       "l1aD/W/dBZA1Ph2bTqxz6iu1kTI29e4XuEmwpidHiIj1iE1araT/AlenPGGauezf4LeU+XHsHpyN\n",
       "zKiU2FNW84Dq8NwQPknqH1w8GN6tjO60HyeaP/hHe4Oii+myugFyyD7sk6oepmaDKTkgiQiiYMAm\n",
       "vjQUi/kzdklJW6dpFDz9daiQTMzvco/ToQcg1h+oR/F0mKQ9DC0cBTXdStMAC6gC4J4EZNrzENOx\n",
       "mozHFCJSf/mBnZt2EemPoq4DTtcyv9i9oH6FjlJucBPXDGlbPbOEIjnMZMeo+wiSntZRdQ+91bWN\n",
       "J2w5ABRjmNsk1kpDrWrAAJOBAAAEUUGahkmoQWiZTAgh//6qVQAFKENPACPkWvkY+vfxO4pFcbbU\n",
       "Tp2L5I8WbrpWWf2V4CFD30aG5gdilUPUGrXlGdXcYkaLQL3AVB/INaqHJ++nRJH/q7/fzeh3CLrC\n",
       "ZlHZg7SgIKs1Uta+aHqMTXZbki/5klIJJqUTEtnZdOC4DeJOKk/nHRf1BwRrMPLzJ0OVTzBjsMpn\n",
       "nw3Tiqw9vGen7QSwbXhRgwMShURT72dFhnEVmsnVpd4fKhsulPnhPEIPDf3qMiS2l6DL7CgVVYWb\n",
       "4xRvuV0quGlMM73TU3BeeWEyRPZL+mPbG27SHQqOiYMCDcmYAe/J7UjIeZjmGtJ6QKiteisJ29Ba\n",
       "J1NsXCHHNDBlqQZkDfGeezDBf2A4ADxZvmGhFmv0jFj/9Mzr9OQp4JxGPOGlFF8P9HuKogUKr1Db\n",
       "KmR3Fz8vr7YaBkBzumURZUgR2K5sbV5c0ZVtfQ7Kbeg0vDn6Nb3m2TCrBlf5yGW0bS3SGEenumgA\n",
       "ZpbBZFdsoeODpi6AXArI41awUoXg/WJD/05LE4X3t5FUv5+INAhZGPEsWh+dIt4AB6ym8YOYaI5h\n",
       "P8hxWfuFwvPGWobhAQQmdMXSFlytpBAobDbEK0bMN/XtsSLPmb1rjKRLSTr6VhKr9w4czjb/0CvU\n",
       "aCYCZB3LL2GJA0tAOG9AtQHg9SJa605ABYlW7XgNC9MB29Duzi1yWcNbPKD0RpaSZL24vgVcn2GV\n",
       "Yri3Wb3yvk3uU5lfEqlPqPcuQXJrFRkkMnUYkYF9Of1ef+uFaYHm6IkkSgLwjD0Nxq/qZ+4JFVCf\n",
       "9IjX96LsmDuPBUYaDngmqJGFeyvsoGtb2nEAQz+yKvc6LczbsqtONXZa9tOR12JO5O9mS/x7ILyQ\n",
       "9csyTsqCWJgdhIzjxcLiY5+2Yhzs1Br4TktlvlzlMr/YD9r3QtjAxERDxeplxIVHBjMlytaDWwAr\n",
       "JUlJ09kCzzBFtF/g63vuLxLy88Q9jLk2HWh1FFjStPRh9Dtq2kMZFMgJt2VAfOjirXzTvujWf+74\n",
       "Av2CbRREjaympPkOt38VLrcAUEaZk4Nkp1L2ZaurYMCrQ7XipjbDxbIx8lWdqdcUKnCRuIq65ooS\n",
       "RXUfww5Rkj/9PqrehChhjCMlSHg36/LyHRJAufPdQGRTu+RhEBhmpbTxXhN2R9sWLbT4uY0mgAVG\n",
       "XPxrIPngHPiArEEqkmzUkVvJgYQoKP0KtDUQkR+yKWEM/VopYCgo20IeJIeUckm8eoPTFRaX4BH0\n",
       "/YzbMjYX4Pj/Usn1IqwBGqFMe3yzKXEj8/DSln/cUcR+uXbNYS8OtCeemp6HlPxN2XGCfsC1dwuH\n",
       "R0MLZzWPzBOFUYVzrNd8xQ46dJe8J37d6b+S46dZ7dNWnUov7Ek0yBODQJ0IimSliW2Y14YOGcor\n",
       "kO9bK3HacZAJVny1SMj8C8i//Gv1Hu5XXlzqy5I7//3iEl5uPTSwQbrAUbMAAARuQZqoSeEKUmUw\n",
       "URLBH/61KoAClb/7UAETW7A27WA5vINgzDW6UZEmFOr7DAli3fXp2vPPeTEVSv89V2Li4glgfXVd\n",
       "vBiCtc0nncMwCIJie0a3tmWdnNrdsJisonQkgo/LRC+cHQ2+4nkcZ6uNcNJ7zJZgYD90XXfh+YfW\n",
       "sA4XriTga2y0C5J22weiV1CuS88cNvaDN6HPol5yujZ5aPDqOic6W/pQRfk8njWfFt6QBf06G8wM\n",
       "87u18Vp1yo0nYGzq8GB0+dmEeoet96vYvu7gxKl/ts3uZW6XJTjNlK5mUjjPReyIZagMXVNkIAPL\n",
       "58AARJDP2RdGYeta/n9dwfz5Me4v5CsEiTxmWNf64OTTZB8ri1VJQ3JkKUtC2QCK244dRxzjAvRg\n",
       "FnOaaDp3Kqm0a2Gztu9Xac/SnWtqNRysIHizoXX9iYhRXCD43EEU7MhBRsVs301q7PGmRc+oSkGh\n",
       "xreS+73MvmGhDTqKWlOl/hD8RjStGKxMaowbGAmfenlDR1NGmL2v3baoY1SFQc4eQQBjXw8cqImZ\n",
       "c1mqaPvQaXLxr0KpkBpzMoQ9LMAnGAWZhdbv3rQGUA02SrQnd7amBKRtOFmv8r2R1LaHOvINzzeg\n",
       "InHGgKj4lePUYEJZZziQGyH247uuyttYVpjYtlH/ZAQALkK/mPTMLa4mcgrRA13Zx3CvgZRGerNg\n",
       "ETSqNgPlfy0aQmkgs6ALv2FncTgCqeWZaQT5Ps7p3wAgoV5H/0qV+Qzc3oTCGY3bQ1LEFxoPmpaQ\n",
       "nCB8kcMo/9SlJ/Z/Bu0iII/I+zYCWo+RD/zF9Q3lxAYzYFZmrbcMOtLNxN0bgK1gbDNjcOF8/UbX\n",
       "Y8sH/5ZAzofSb7kulpsKwC5Fyuw0yMrlKnGGBkB/KheqsAOUxtqybTM/c6pX2sGRrrpFvf6izU7o\n",
       "Lof8PjuWw2/dk3Q5VelZZqbe4KE7rv0YgQ33m2pAW8xYFob+LWH8tRkosAUSrcOwE9pOuw1vNmhj\n",
       "OYAbawR2+aEQ0VZvJM7K19kTfGU9oFQdSNMNMp3i9RVIqD9kbkB4cf7Dmhjuk3ZGdFvE1ocznl+S\n",
       "tYorass/8cHEuPxEuyN+FP4Zcbjw1asapV3dqFPB9bc16Y7giJHZeQ4SMftj+4VTcIpuyFRIFPfD\n",
       "sc1IdltaF9+IRu26Ow4dpAq8NuxT8EyX6Zkd1bQXqsaxcjohyU61v/LAkwtW1aHY2xWKV/44gDmn\n",
       "LC5mXx6mDdcTw7kuUBTu5zRKUtxPOGqbxaQDDVU7SM+RboSGogb7UCShuQ3uziLZkAik3ApLbGFn\n",
       "Bmx/NMI6n/xZRCl5uQUyoDkL+EwaD1y1MrmDgYTNSnQ7w4cxQidiBU+If9RuLZrnD7taOtLYfy7m\n",
       "Fah0fpMuWBBXCyhTMx1SBEW764zMXuDjvPPRTme3I1hCs47gP69yyB86/Kf0iP70FdFRVLuGgKWA\n",
       "f2Lqc7qK5eeSCxV1zBAwOhOFZ4IDOqhngJM4OutrimpnezCS+fSZfcI/AAABLAGex2pDfwAOL9yA\n",
       "D+kDx00I0/ZPw05TvrpcedbsPbdu+OwBevM73dermUEMJDSdlAdELY00S1DcVLqIDUWfw4YoOL+8\n",
       "CmyxqQzmgUeXhXiUfNP1PVhXk6LJDx4jb8LrBG+hD7A83/1JLkgGbd2n/o9b2elJSx/mxMFA88P9\n",
       "P3anDXtTX9N+8gdmXAb+T/GM90YmDqs2Lkv4sIqMv4O+XSIGe82+aD3lLDePeMBzAO5Tsu5UY/hz\n",
       "tQb/TjcznSmMSe5vckXMO4fEmg7XsaXu3dTR9r8A4f50o8x++/3sW42sR2lhT4KyCKvxqPNWLTYB\n",
       "ZeDYaf+Lu3mB9cmhbUD4VsOy2NCREOpP7flPFi1m881ryaykc0fcTlXaEG/gSUGiCAByoSq4Dbjl\n",
       "wAA6YAAAAg9BmstJ4Q6JlMCCH/6qVQAE4QeuADdHPYXqcj5mXcYpylbfmQ1isuFuGbl3A+5tsz7T\n",
       "xcf2b7mmpA+jbDIR4uv09txl8hDGAGDSpqLKJjTScMz4Ss0PxzEmd4uadKYH+vhGEUJPvnMCxKei\n",
       "/lOYpV15HD+vixQbGZobKfMUv+piuJNHpaDbQHfymhCQascG9cR76r4DAzy5VCse8+L2XfibnjQl\n",
       "z/ezFu18On6bF9cDeYGIjtp0liwnY7VgsLYeU7SgMi0ZWsmZF3+XLTFhYZOw6Z2hEkcen6RS4L5/\n",
       "JNddkyAArd6fbt1YRzVbRK0sZhzmdXQU7goAmYdTGkITsWOl5MwdSEZiq5HD7hTdotwH4g/wFn3W\n",
       "8D/p/doR/jYKq2EarqiGRU2rTTbHy2n0i5/Md0usyBd65W20i08NBNPCmDmYOuVnGhU+zN1hOCfd\n",
       "qcBHhPs9A5AlsyPQR5QO+IKTp2SIBzLOhAF311ydKCDaesgDYkbOPSEnN0W38xfuoyrx5DWN/mLT\n",
       "5gsQimmCHkl3/+5vLcrsXbixdFzLuBa14yOy9Hsc8f4WwuaH1OvCo/OyCOsJXUuhtAjmniB7918q\n",
       "MORNwlFobrsSGw0qLeAVkv5TW/mAEXlpDFf6FnIw3XTeAV/K/CVbto/J9yFmQpT30mF2zi44m/0M\n",
       "R4W194FEfj1VWoRzIX/UVTlSPtXI2AAAAIpBnulFFTw3/wANgXZpMHRhTzB0VFXHogALkjLLmGqn\n",
       "NnONiRpKiNJO07Xk9fNUrmjZcP9HrAA2MOhRnAmMMkZJStnWrzs1CXnj3J+/IR8U5iUTqBS9RxPS\n",
       "Ba9lMk+HY/sU0vt7bapQOBKoXvP5rJBKng0sdjGHCcES5IAJn7tP6pCSYQ1rkAAAEfEAAAAeAZ8K\n",
       "akN/AANMAbHXs0h3i8qG2YaADaWp/z4KIAFBAAAB1EGbD0moQWiZTAgh//6qVQAFJ8fAAC6UfJUf\n",
       "miIhFFhI8zlbEmZtYrUdLax/FXYd40KCqPXLuRaiObXNtZStdx80k9dULDPBpGmsxwS22joX35U/\n",
       "nDDo1eXtoenF5ottMIPuJLZfgDmPfN/qsvYuYidASWM41SJ4PJBHLZdSOyPUaTJf9HSWRF/QjcvA\n",
       "Jk1JrGL2+K712UYiD9AIQn9lZYDtenw+lElyxEEJHThq0tzMv++EjmOBilpRwChIpq0PRFWrHr8h\n",
       "+jhgPNSrm2r9VGF9y/U93idzRiz8hCr1fRwjD9Ff9hhSpvdoWW1VidwV4R+X1WB8EaZVv4EzWOUT\n",
       "3wnJuv0yuJ9gxEjRiPQJXLEs/yCWxy/Fd3Z5GlByTBpPmQrWVqsZpK5H1qV2spVH7ZCbHkRqwduD\n",
       "PbqINmaDwTphfo7otlZMX4VRT5vRvsHL8PaVaXS6yigTzF89xb1GJbruKLiqVdWCstFXE/xfPyPX\n",
       "LwsDY/nafcFbYLykZI7FDOxR65rMAKkrtNfO0kaPqPK+pWsUJaTL1bjFrcStaBlUDEropBd88Dy0\n",
       "a+iu9v2AXvsFYTHP4QOn1mo1WmNNoxAJxoHzmxAWxJ33M/pmCpqmqJMegAAAAHpBny1FESw7/wAJ\n",
       "w5Q1SbpiFegAumB1+VZq8uHXkIMGMcg7QTOurMuGTuJwHEog6qznBt6t54nsky1ZQD5u885A3co3\n",
       "cfj4FRkn1dJkUORO5BBjylMwZslgd3rXUqxhzCAnGHc6l1CT8vTrOl7R/5s8cjDNe3PxTAAYsQAA\n",
       "ABkBn0x0Q38ADin1rPc+2ueu7ehFoL/YAAYtAAAAHwGfTmpDfwANO5kgA2ptY3oET+He2IXeUTqy\n",
       "tRQAqoEAAAEmQZtSSahBbJlMCHf//qmWABMWAMYAHsLA+Q7E19ZC4iTAZihvin02kC97xwPtRI1N\n",
       "YX0KCURkGoBOkj4WUlf7eGnpt5rWvYAyWBl5nfDnpeNdSa3NouG9Iqj0sqmNPN4S/1f20levOCEH\n",
       "R79TAX5k8xYsg6LRvGrA6WVCtNbUSNSBLXJCyMIMbsQd9qrCjv3N+FAAfqUuUS1usEguVnL3XWAF\n",
       "bUsxUYEFv5KeF16+MgcAP8PP5RIW3lhQbd9mUycafJTwAtyRtdvrhbFjxtaIE/ncUKL76ZnrNlyy\n",
       "ZVZUlS2I722elRJhgv4qkFBxqLw5c+CLdEAFU/Gz9sOx053TUyVnCW5gukZSAmM4GhAtrnIrO0pr\n",
       "mSKP7JQNznDKYT8wQjeobAEPAAAAG0GfcEUVLDf/AAaQ3vt6n0QrXjtGHqu+N4AVUAAAABgBn5Fq\n",
       "Q38ABjvY2vTDkcozo/fLPQvgBVUAAAA0QZuTSahBbJlMCG///qeEACWcumqahGhxzPXSMx5+kKAA\n",
       "hjc/GSSM4/BVSMYZhCNTusAFBAAABAdtb292AAAAbG12aGQAAAAAAAAAAAAAAAAAAAPoAAAH0AAB\n",
       "AAABAAAAAAAAAAAAAAAAAQAAAAAAAAAAAAAAAAAAAAEAAAAAAAAAAAAAAAAAAEAAAAAAAAAAAAAA\n",
       "AAAAAAAAAAAAAAAAAAAAAAAAAAACAAADMXRyYWsAAABcdGtoZAAAAAMAAAAAAAAAAAAAAAEAAAAA\n",
       "AAAH0AAAAAAAAAAAAAAAAAAAAAAAAQAAAAAAAAAAAAAAAAAAAAEAAAAAAAAAAAAAAAAAAEAAAAAB\n",
       "9AAAAZAAAAAAACRlZHRzAAAAHGVsc3QAAAAAAAAAAQAAB9AAAAgAAAEAAAAAAqltZGlhAAAAIG1k\n",
       "aGQAAAAAAAAAAAAAAAAAACgAAABQAFXEAAAAAAAtaGRscgAAAAAAAAAAdmlkZQAAAAAAAAAAAAAA\n",
       "AFZpZGVvSGFuZGxlcgAAAAJUbWluZgAAABR2bWhkAAAAAQAAAAAAAAAAAAAAJGRpbmYAAAAcZHJl\n",
       "ZgAAAAAAAAABAAAADHVybCAAAAABAAACFHN0YmwAAAC0c3RzZAAAAAAAAAABAAAApGF2YzEAAAAA\n",
       "AAAAAQAAAAAAAAAAAAAAAAAAAAAB9AGQAEgAAABIAAAAAAAAAAEAAAAAAAAAAAAAAAAAAAAAAAAA\n",
       "AAAAAAAAAAAAAAAAAAAY//8AAAAyYXZjQwFkABb/4QAZZ2QAFqzZQIAz5+EAAAMAAQAAAwAUDxYt\n",
       "lgEABmjr48siwAAAABx1dWlka2hA8l8kT8W6OaUbzwMj8wAAAAAAAAAYc3R0cwAAAAAAAAABAAAA\n",
       "FAAABAAAAAAUc3RzcwAAAAAAAAABAAAAAQAAAJhjdHRzAAAAAAAAABEAAAACAAAIAAAAAAEAABQA\n",
       "AAAAAQAACAAAAAABAAAAAAAAAAEAAAQAAAAAAQAACAAAAAABAAAMAAAAAAEAAAQAAAAAAQAAEAAA\n",
       "AAACAAAEAAAAAAEAABQAAAAAAQAACAAAAAABAAAAAAAAAAEAAAQAAAAAAQAAEAAAAAACAAAEAAAA\n",
       "AAEAAAgAAAAAHHN0c2MAAAAAAAAAAQAAAAEAAAAUAAAAAQAAAGRzdHN6AAAAAAAAAAAAAAAUAAAd\n",
       "oQAABVkAAAYZAAAEQwAABIoAAAKSAAAEVQAABHIAAAEwAAACEwAAAI4AAAAiAAAB2AAAAH4AAAAd\n",
       "AAAAIwAAASoAAAAfAAAAHAAAADgAAAAUc3RjbwAAAAAAAAABAAAALAAAAGJ1ZHRhAAAAWm1ldGEA\n",
       "AAAAAAAAIWhkbHIAAAAAAAAAAG1kaXJhcHBsAAAAAAAAAAAAAAAALWlsc3QAAAAlqXRvbwAAAB1k\n",
       "YXRhAAAAAQAAAABMYXZmNTcuNDEuMTAw\n",
       "\">\n",
       "  Your browser does not support the video tag.\n",
       "</video>"
      ],
      "text/plain": [
       "<matplotlib.animation.FuncAnimation at 0x7f3a149f8b00>"
      ]
     },
     "execution_count": 26,
     "metadata": {},
     "output_type": "execute_result"
    }
   ],
   "source": [
    "# Animate a call\n",
    "fig = plt.figure(dpi=100, figsize=(5, 4))\n",
    "plt.scatter(x,y)\n",
    "line, = plt.plot(x,lin(a_guess,b_guess,x))\n",
    "plt.close()\n",
    "\n",
    "def animate(i):\n",
    "    line.set_ydata(lin(a_guess,b_guess,x))\n",
    "    for i in range(30): update()\n",
    "    return line,\n",
    "\n",
    "ani = animation.FuncAnimation(fig, animate, np.arange(0, 20), interval=100)\n",
    "ani"
   ]
  },
  {
   "cell_type": "code",
   "execution_count": null,
   "metadata": {},
   "outputs": [],
   "source": []
  }
 ],
 "metadata": {
  "kernelspec": {
   "display_name": "Python 3",
   "language": "python",
   "name": "python3"
  },
  "language_info": {
   "codemirror_mode": {
    "name": "ipython",
    "version": 3
   },
   "file_extension": ".py",
   "mimetype": "text/x-python",
   "name": "python",
   "nbconvert_exporter": "python",
   "pygments_lexer": "ipython3",
   "version": "3.6.4"
  }
 },
 "nbformat": 4,
 "nbformat_minor": 2
}
